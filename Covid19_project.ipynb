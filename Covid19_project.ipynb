{
 "cells": [
  {
   "cell_type": "code",
   "execution_count": 1,
   "metadata": {},
   "outputs": [],
   "source": [
    "import numpy as np\n",
    "import pandas as pd\n",
    "import matplotlib.pyplot as plt\n",
    "import seaborn as sns\n",
    "\n",
    "\n",
    "from sklearn.preprocessing import StandardScaler\n",
    "from sklearn.preprocessing import LabelEncoder\n",
    "from sklearn.metrics import mean_squared_error, mean_absolute_error\n",
    "from sklearn.metrics import r2_score\n",
    "from sklearn.model_selection import train_test_split\n",
    "from sklearn.linear_model import LinearRegression"
   ]
  },
  {
   "cell_type": "code",
   "execution_count": 2,
   "metadata": {},
   "outputs": [],
   "source": [
    "df = pd.read_csv('aggregate_covid_country.csv')"
   ]
  },
  {
   "cell_type": "code",
   "execution_count": 3,
   "metadata": {},
   "outputs": [
    {
     "data": {
      "text/html": [
       "<div>\n",
       "<style scoped>\n",
       "    .dataframe tbody tr th:only-of-type {\n",
       "        vertical-align: middle;\n",
       "    }\n",
       "\n",
       "    .dataframe tbody tr th {\n",
       "        vertical-align: top;\n",
       "    }\n",
       "\n",
       "    .dataframe thead th {\n",
       "        text-align: right;\n",
       "    }\n",
       "</style>\n",
       "<table border=\"1\" class=\"dataframe\">\n",
       "  <thead>\n",
       "    <tr style=\"text-align: right;\">\n",
       "      <th></th>\n",
       "      <th>Date</th>\n",
       "      <th>Country</th>\n",
       "      <th>Confirmed</th>\n",
       "      <th>Recovered</th>\n",
       "      <th>Deaths</th>\n",
       "    </tr>\n",
       "  </thead>\n",
       "  <tbody>\n",
       "    <tr>\n",
       "      <th>0</th>\n",
       "      <td>2020-01-22</td>\n",
       "      <td>Afghanistan</td>\n",
       "      <td>0</td>\n",
       "      <td>0</td>\n",
       "      <td>0</td>\n",
       "    </tr>\n",
       "    <tr>\n",
       "      <th>1</th>\n",
       "      <td>2020-01-22</td>\n",
       "      <td>Albania</td>\n",
       "      <td>0</td>\n",
       "      <td>0</td>\n",
       "      <td>0</td>\n",
       "    </tr>\n",
       "    <tr>\n",
       "      <th>2</th>\n",
       "      <td>2020-01-22</td>\n",
       "      <td>Algeria</td>\n",
       "      <td>0</td>\n",
       "      <td>0</td>\n",
       "      <td>0</td>\n",
       "    </tr>\n",
       "    <tr>\n",
       "      <th>3</th>\n",
       "      <td>2020-01-22</td>\n",
       "      <td>Andorra</td>\n",
       "      <td>0</td>\n",
       "      <td>0</td>\n",
       "      <td>0</td>\n",
       "    </tr>\n",
       "    <tr>\n",
       "      <th>4</th>\n",
       "      <td>2020-01-22</td>\n",
       "      <td>Angola</td>\n",
       "      <td>0</td>\n",
       "      <td>0</td>\n",
       "      <td>0</td>\n",
       "    </tr>\n",
       "  </tbody>\n",
       "</table>\n",
       "</div>"
      ],
      "text/plain": [
       "         Date      Country  Confirmed  Recovered  Deaths\n",
       "0  2020-01-22  Afghanistan          0          0       0\n",
       "1  2020-01-22      Albania          0          0       0\n",
       "2  2020-01-22      Algeria          0          0       0\n",
       "3  2020-01-22      Andorra          0          0       0\n",
       "4  2020-01-22       Angola          0          0       0"
      ]
     },
     "execution_count": 3,
     "metadata": {},
     "output_type": "execute_result"
    }
   ],
   "source": [
    "df.head()"
   ]
  },
  {
   "cell_type": "code",
   "execution_count": 4,
   "metadata": {
    "scrolled": true
   },
   "outputs": [
    {
     "name": "stdout",
     "output_type": "stream",
     "text": [
      "<class 'pandas.core.frame.DataFrame'>\n",
      "RangeIndex: 23688 entries, 0 to 23687\n",
      "Data columns (total 5 columns):\n",
      " #   Column     Non-Null Count  Dtype \n",
      "---  ------     --------------  ----- \n",
      " 0   Date       23688 non-null  object\n",
      " 1   Country    23688 non-null  object\n",
      " 2   Confirmed  23688 non-null  int64 \n",
      " 3   Recovered  23688 non-null  int64 \n",
      " 4   Deaths     23688 non-null  int64 \n",
      "dtypes: int64(3), object(2)\n",
      "memory usage: 925.4+ KB\n"
     ]
    }
   ],
   "source": [
    "df.info()"
   ]
  },
  {
   "cell_type": "code",
   "execution_count": 5,
   "metadata": {},
   "outputs": [],
   "source": [
    "le = LabelEncoder()\n",
    "\n",
    "df['Country'] = le.fit_transform(df['Country'])"
   ]
  },
  {
   "cell_type": "code",
   "execution_count": 6,
   "metadata": {},
   "outputs": [
    {
     "data": {
      "text/html": [
       "<div>\n",
       "<style scoped>\n",
       "    .dataframe tbody tr th:only-of-type {\n",
       "        vertical-align: middle;\n",
       "    }\n",
       "\n",
       "    .dataframe tbody tr th {\n",
       "        vertical-align: top;\n",
       "    }\n",
       "\n",
       "    .dataframe thead th {\n",
       "        text-align: right;\n",
       "    }\n",
       "</style>\n",
       "<table border=\"1\" class=\"dataframe\">\n",
       "  <thead>\n",
       "    <tr style=\"text-align: right;\">\n",
       "      <th></th>\n",
       "      <th>Date</th>\n",
       "      <th>Country</th>\n",
       "      <th>Confirmed</th>\n",
       "      <th>Recovered</th>\n",
       "      <th>Deaths</th>\n",
       "    </tr>\n",
       "  </thead>\n",
       "  <tbody>\n",
       "    <tr>\n",
       "      <th>0</th>\n",
       "      <td>2020-01-22</td>\n",
       "      <td>0</td>\n",
       "      <td>0</td>\n",
       "      <td>0</td>\n",
       "      <td>0</td>\n",
       "    </tr>\n",
       "    <tr>\n",
       "      <th>1</th>\n",
       "      <td>2020-01-22</td>\n",
       "      <td>1</td>\n",
       "      <td>0</td>\n",
       "      <td>0</td>\n",
       "      <td>0</td>\n",
       "    </tr>\n",
       "    <tr>\n",
       "      <th>2</th>\n",
       "      <td>2020-01-22</td>\n",
       "      <td>2</td>\n",
       "      <td>0</td>\n",
       "      <td>0</td>\n",
       "      <td>0</td>\n",
       "    </tr>\n",
       "    <tr>\n",
       "      <th>3</th>\n",
       "      <td>2020-01-22</td>\n",
       "      <td>3</td>\n",
       "      <td>0</td>\n",
       "      <td>0</td>\n",
       "      <td>0</td>\n",
       "    </tr>\n",
       "    <tr>\n",
       "      <th>4</th>\n",
       "      <td>2020-01-22</td>\n",
       "      <td>4</td>\n",
       "      <td>0</td>\n",
       "      <td>0</td>\n",
       "      <td>0</td>\n",
       "    </tr>\n",
       "    <tr>\n",
       "      <th>...</th>\n",
       "      <td>...</td>\n",
       "      <td>...</td>\n",
       "      <td>...</td>\n",
       "      <td>...</td>\n",
       "      <td>...</td>\n",
       "    </tr>\n",
       "    <tr>\n",
       "      <th>23683</th>\n",
       "      <td>2020-05-26</td>\n",
       "      <td>183</td>\n",
       "      <td>429</td>\n",
       "      <td>365</td>\n",
       "      <td>3</td>\n",
       "    </tr>\n",
       "    <tr>\n",
       "      <th>23684</th>\n",
       "      <td>2020-05-26</td>\n",
       "      <td>184</td>\n",
       "      <td>9</td>\n",
       "      <td>6</td>\n",
       "      <td>1</td>\n",
       "    </tr>\n",
       "    <tr>\n",
       "      <th>23685</th>\n",
       "      <td>2020-05-26</td>\n",
       "      <td>185</td>\n",
       "      <td>249</td>\n",
       "      <td>10</td>\n",
       "      <td>49</td>\n",
       "    </tr>\n",
       "    <tr>\n",
       "      <th>23686</th>\n",
       "      <td>2020-05-26</td>\n",
       "      <td>186</td>\n",
       "      <td>920</td>\n",
       "      <td>336</td>\n",
       "      <td>7</td>\n",
       "    </tr>\n",
       "    <tr>\n",
       "      <th>23687</th>\n",
       "      <td>2020-05-26</td>\n",
       "      <td>187</td>\n",
       "      <td>56</td>\n",
       "      <td>25</td>\n",
       "      <td>4</td>\n",
       "    </tr>\n",
       "  </tbody>\n",
       "</table>\n",
       "<p>23688 rows × 5 columns</p>\n",
       "</div>"
      ],
      "text/plain": [
       "             Date  Country  Confirmed  Recovered  Deaths\n",
       "0      2020-01-22        0          0          0       0\n",
       "1      2020-01-22        1          0          0       0\n",
       "2      2020-01-22        2          0          0       0\n",
       "3      2020-01-22        3          0          0       0\n",
       "4      2020-01-22        4          0          0       0\n",
       "...           ...      ...        ...        ...     ...\n",
       "23683  2020-05-26      183        429        365       3\n",
       "23684  2020-05-26      184          9          6       1\n",
       "23685  2020-05-26      185        249         10      49\n",
       "23686  2020-05-26      186        920        336       7\n",
       "23687  2020-05-26      187         56         25       4\n",
       "\n",
       "[23688 rows x 5 columns]"
      ]
     },
     "execution_count": 6,
     "metadata": {},
     "output_type": "execute_result"
    }
   ],
   "source": [
    "df"
   ]
  },
  {
   "cell_type": "code",
   "execution_count": 7,
   "metadata": {},
   "outputs": [],
   "source": [
    "df['Date'] = le.fit_transform(df['Date'])"
   ]
  },
  {
   "cell_type": "code",
   "execution_count": 8,
   "metadata": {},
   "outputs": [
    {
     "data": {
      "text/html": [
       "<div>\n",
       "<style scoped>\n",
       "    .dataframe tbody tr th:only-of-type {\n",
       "        vertical-align: middle;\n",
       "    }\n",
       "\n",
       "    .dataframe tbody tr th {\n",
       "        vertical-align: top;\n",
       "    }\n",
       "\n",
       "    .dataframe thead th {\n",
       "        text-align: right;\n",
       "    }\n",
       "</style>\n",
       "<table border=\"1\" class=\"dataframe\">\n",
       "  <thead>\n",
       "    <tr style=\"text-align: right;\">\n",
       "      <th></th>\n",
       "      <th>Date</th>\n",
       "      <th>Country</th>\n",
       "      <th>Confirmed</th>\n",
       "      <th>Recovered</th>\n",
       "      <th>Deaths</th>\n",
       "    </tr>\n",
       "  </thead>\n",
       "  <tbody>\n",
       "    <tr>\n",
       "      <th>0</th>\n",
       "      <td>0</td>\n",
       "      <td>0</td>\n",
       "      <td>0</td>\n",
       "      <td>0</td>\n",
       "      <td>0</td>\n",
       "    </tr>\n",
       "    <tr>\n",
       "      <th>1</th>\n",
       "      <td>0</td>\n",
       "      <td>1</td>\n",
       "      <td>0</td>\n",
       "      <td>0</td>\n",
       "      <td>0</td>\n",
       "    </tr>\n",
       "    <tr>\n",
       "      <th>2</th>\n",
       "      <td>0</td>\n",
       "      <td>2</td>\n",
       "      <td>0</td>\n",
       "      <td>0</td>\n",
       "      <td>0</td>\n",
       "    </tr>\n",
       "    <tr>\n",
       "      <th>3</th>\n",
       "      <td>0</td>\n",
       "      <td>3</td>\n",
       "      <td>0</td>\n",
       "      <td>0</td>\n",
       "      <td>0</td>\n",
       "    </tr>\n",
       "    <tr>\n",
       "      <th>4</th>\n",
       "      <td>0</td>\n",
       "      <td>4</td>\n",
       "      <td>0</td>\n",
       "      <td>0</td>\n",
       "      <td>0</td>\n",
       "    </tr>\n",
       "    <tr>\n",
       "      <th>...</th>\n",
       "      <td>...</td>\n",
       "      <td>...</td>\n",
       "      <td>...</td>\n",
       "      <td>...</td>\n",
       "      <td>...</td>\n",
       "    </tr>\n",
       "    <tr>\n",
       "      <th>23683</th>\n",
       "      <td>125</td>\n",
       "      <td>183</td>\n",
       "      <td>429</td>\n",
       "      <td>365</td>\n",
       "      <td>3</td>\n",
       "    </tr>\n",
       "    <tr>\n",
       "      <th>23684</th>\n",
       "      <td>125</td>\n",
       "      <td>184</td>\n",
       "      <td>9</td>\n",
       "      <td>6</td>\n",
       "      <td>1</td>\n",
       "    </tr>\n",
       "    <tr>\n",
       "      <th>23685</th>\n",
       "      <td>125</td>\n",
       "      <td>185</td>\n",
       "      <td>249</td>\n",
       "      <td>10</td>\n",
       "      <td>49</td>\n",
       "    </tr>\n",
       "    <tr>\n",
       "      <th>23686</th>\n",
       "      <td>125</td>\n",
       "      <td>186</td>\n",
       "      <td>920</td>\n",
       "      <td>336</td>\n",
       "      <td>7</td>\n",
       "    </tr>\n",
       "    <tr>\n",
       "      <th>23687</th>\n",
       "      <td>125</td>\n",
       "      <td>187</td>\n",
       "      <td>56</td>\n",
       "      <td>25</td>\n",
       "      <td>4</td>\n",
       "    </tr>\n",
       "  </tbody>\n",
       "</table>\n",
       "<p>23688 rows × 5 columns</p>\n",
       "</div>"
      ],
      "text/plain": [
       "       Date  Country  Confirmed  Recovered  Deaths\n",
       "0         0        0          0          0       0\n",
       "1         0        1          0          0       0\n",
       "2         0        2          0          0       0\n",
       "3         0        3          0          0       0\n",
       "4         0        4          0          0       0\n",
       "...     ...      ...        ...        ...     ...\n",
       "23683   125      183        429        365       3\n",
       "23684   125      184          9          6       1\n",
       "23685   125      185        249         10      49\n",
       "23686   125      186        920        336       7\n",
       "23687   125      187         56         25       4\n",
       "\n",
       "[23688 rows x 5 columns]"
      ]
     },
     "execution_count": 8,
     "metadata": {},
     "output_type": "execute_result"
    }
   ],
   "source": [
    "df"
   ]
  },
  {
   "cell_type": "code",
   "execution_count": 9,
   "metadata": {},
   "outputs": [
    {
     "data": {
      "text/plain": [
       "(array([ 7932,  8120,  8308,  8496,  8684,  8872,  9060,  9248,  9436,\n",
       "         9624,  9812, 10000, 10188, 10376, 10564, 10752, 10940, 11128,\n",
       "        11316, 11504, 11692, 11880, 12068, 12256, 12444, 12632, 12820,\n",
       "        13008, 13146, 13196, 13245, 13334, 13384, 13433, 13522, 13572,\n",
       "        13621, 13710, 13760, 13809, 13898, 13948, 13997, 14070, 14086,\n",
       "        14136, 14185, 14258, 14274, 14274, 14324, 14373, 14446, 14462,\n",
       "        14462, 14512, 14561, 14634, 14634, 14650, 14650, 14700, 14730,\n",
       "        14749, 14822, 14822, 14838, 14838, 14888, 14914, 14918, 14937,\n",
       "        15010, 15010, 15026, 15026, 15076, 15102, 15106, 15125, 15198,\n",
       "        15198, 15214, 15214, 15264, 15290, 15294, 15313, 15386, 15386,\n",
       "        15402, 15402, 15452, 15478, 15482, 15501, 15574, 15574, 15590,\n",
       "        15590, 15594, 15640, 15666, 15670, 15685, 15689, 15762, 15762,\n",
       "        15778, 15778, 15782, 15828, 15854, 15858, 15873, 15877, 15950,\n",
       "        15950, 15966, 15966, 15966, 15970, 16016, 16042, 16046, 16061,\n",
       "        16065, 16138, 16138, 16138, 16154, 16154, 16154, 16158, 16204,\n",
       "        16230, 16234, 16249, 16253, 16326, 16326, 16326, 16342, 16342,\n",
       "        16342, 16346, 16392, 16418, 16422, 16437, 16441, 16514, 16514,\n",
       "        16514, 16530, 16530, 16530, 16534, 16580, 16606, 16610, 16625,\n",
       "        16629, 16702, 16702, 16702, 16718, 16718, 16718, 16722, 16768,\n",
       "        16794, 16798, 16813, 16817, 16817, 16890, 16890, 16890, 16906,\n",
       "        16906, 16906, 16910, 16956, 16982, 16986, 17001, 17005, 17005,\n",
       "        17005, 17078, 17078, 17078, 17094, 17094, 17094, 17098, 17144,\n",
       "        17170, 17174, 17189, 17193, 17193, 17193, 17266, 17266, 17266,\n",
       "        17282, 17282, 17282, 17286, 17332, 17358, 17362, 17377, 17381,\n",
       "        17381, 17381, 17454, 17454, 17454, 17470, 17470, 17470, 17474,\n",
       "        17520, 17546, 17550, 17565, 17569, 17569, 17569, 17642, 17642,\n",
       "        17642, 17658, 17658, 17658, 17662, 17708, 17734, 17738, 17753,\n",
       "        17757, 17757, 17757, 17830, 17830, 17830, 17846, 17846, 17846,\n",
       "        17850, 17896, 17922, 17926, 17941, 17945, 17945, 17945, 18018,\n",
       "        18018, 18018, 18034, 18034, 18034, 18038, 18084, 18110, 18114,\n",
       "        18129, 18133, 18133, 18133, 18206, 18206, 18206, 18222, 18222,\n",
       "        18222, 18226, 18272, 18298, 18302, 18317, 18321, 18321, 18321,\n",
       "        18394, 18394, 18394, 18410, 18410, 18410, 18414, 18460, 18486,\n",
       "        18486, 18490, 18505, 18509, 18509, 18509, 18582, 18582, 18582,\n",
       "        18598, 18598, 18598, 18602, 18648, 18674, 18674, 18678, 18693,\n",
       "        18697, 18697, 18697, 18770, 18770, 18770, 18785, 18786, 18786,\n",
       "        18786, 18790, 18836, 18862, 18862, 18866, 18881, 18885, 18885,\n",
       "        18885, 18958, 18958, 18958, 18973, 18974, 18974, 18974, 18978,\n",
       "        19024, 19050, 19050, 19054, 19069, 19073, 19073, 19073, 19146,\n",
       "        19146, 19146, 19161, 19162, 19162, 19162, 19166, 19166, 19212,\n",
       "        19238, 19238, 19242, 19257, 19261, 19261, 19261, 19334, 19334,\n",
       "        19334, 19349, 19350, 19350, 19350, 19354, 19354, 19400, 19426,\n",
       "        19426, 19430, 19445, 19449, 19449, 19449, 19522, 19522, 19522,\n",
       "        19537, 19538, 19538, 19538, 19542, 19542, 19575, 19588, 19614,\n",
       "        19614, 19618, 19633, 19637, 19637, 19637, 19710, 19710, 19710,\n",
       "        19725, 19726, 19726, 19726, 19730, 19730, 19763, 19776, 19802,\n",
       "        19802, 19806, 19821, 19825, 19825, 19825, 19898, 19898, 19898,\n",
       "        19913, 19914, 19914, 19914, 19918, 19918, 19951, 19964, 19990,\n",
       "        19990, 19994, 20009, 20013, 20013, 20013, 20086, 20086, 20086,\n",
       "        20101, 20102, 20102, 20102, 20106, 20106, 20139, 20152, 20178,\n",
       "        20178, 20182, 20197, 20201, 20201, 20201, 20256, 20274, 20274,\n",
       "        20274, 20289, 20290, 20290, 20290, 20294, 20294, 20327, 20340,\n",
       "        20366, 20366, 20370, 20385, 20389, 20389, 20389, 20444, 20462,\n",
       "        20462, 20462, 20477, 20478, 20478, 20478, 20482, 20482, 20515,\n",
       "        20528, 20554, 20554, 20558, 20573, 20577, 20577, 20577, 20632,\n",
       "        20650, 20650, 20650, 20665, 20666, 20666, 20666, 20670, 20670,\n",
       "        20703, 20716, 20742, 20742, 20746, 20761, 20765, 20765, 20765,\n",
       "        20820, 20838, 20838, 20838, 20853, 20854, 20854, 20854, 20858,\n",
       "        20858, 20891, 20904, 20930, 20930, 20934, 20949, 20953, 20953,\n",
       "        20953, 21008, 21026, 21026, 21026, 21041, 21042, 21042, 21042,\n",
       "        21046, 21046, 21079, 21079, 21079, 21092, 21118, 21118, 21122,\n",
       "        21137, 21141, 21141, 21141, 21196, 21214, 21214, 21214, 21229,\n",
       "        21230, 21230, 21230, 21234, 21234, 21267, 21267, 21267, 21280,\n",
       "        21306, 21306, 21310, 21325, 21329, 21329, 21329, 21384, 21384,\n",
       "        21402, 21402, 21402, 21417, 21418, 21418, 21418, 21422, 21422,\n",
       "        21455, 21455, 21455, 21468, 21494, 21494, 21498, 21513, 21517,\n",
       "        21517, 21517, 21572, 21572, 21590, 21590, 21590, 21605, 21606,\n",
       "        21606, 21606, 21610, 21610, 21643, 21643, 21643, 21656, 21682,\n",
       "        21682, 21686, 21701, 21705, 21705, 21705, 21760, 21760, 21778,\n",
       "        21778, 21778, 21793, 21794, 21794, 21794, 21798, 21798, 21831,\n",
       "        21831, 21831, 21844, 21870, 21870, 21874, 21889, 21893, 21893,\n",
       "        21893, 21948, 21948, 21966, 21966, 21966, 21981, 21982, 21982,\n",
       "        21982, 21986, 21986, 22019, 22019, 22019, 22032, 22058, 22058,\n",
       "        22062, 22077, 22081, 22081, 22081, 22136, 22136, 22154, 22154,\n",
       "        22154, 22169, 22170, 22170, 22170, 22174, 22174, 22207, 22207,\n",
       "        22207, 22220, 22246, 22246, 22250, 22265, 22269, 22269, 22269,\n",
       "        22324, 22324, 22342, 22342, 22342, 22357, 22358, 22358, 22358,\n",
       "        22362, 22362, 22395, 22395, 22395, 22408, 22434, 22434, 22438,\n",
       "        22453, 22457, 22457, 22457, 22512, 22512, 22530, 22530, 22530,\n",
       "        22545, 22546, 22546, 22546, 22550, 22550, 22583, 22583, 22583,\n",
       "        22596, 22622, 22622, 22626, 22639, 22641, 22645, 22645, 22645,\n",
       "        22700, 22700, 22718, 22718, 22718, 22733, 22734, 22734, 22734,\n",
       "        22738, 22738, 22771, 22771, 22771, 22784, 22810, 22810, 22814,\n",
       "        22827, 22829, 22833, 22833, 22833, 22888, 22888, 22906, 22906,\n",
       "        22906, 22921, 22922, 22922, 22922, 22926, 22926, 22959, 22959,\n",
       "        22959, 22972, 22998, 22998, 23002, 23015, 23017, 23021, 23021,\n",
       "        23021, 23076, 23076, 23094, 23094, 23094, 23109, 23110, 23110,\n",
       "        23110, 23114, 23114, 23147, 23147, 23147, 23160, 23186, 23186,\n",
       "        23190, 23203, 23205, 23209, 23209, 23209, 23258, 23264, 23264,\n",
       "        23282, 23282, 23282, 23297, 23298, 23298, 23298, 23302, 23302,\n",
       "        23335, 23335, 23335, 23348, 23374, 23374, 23378, 23391, 23393,\n",
       "        23397, 23397, 23397, 23425, 23446, 23452, 23452, 23470, 23470,\n",
       "        23470, 23485, 23486, 23486, 23486, 23490, 23490, 23523, 23523,\n",
       "        23523, 23536, 23562, 23562, 23566, 23579, 23581, 23585, 23585,\n",
       "        23585, 23613, 23634, 23640, 23640, 23647, 23658, 23658, 23658,\n",
       "        23673, 23674, 23674, 23674, 23678, 23678], dtype=int64),\n",
       " array([3, 3, 3, 3, 3, 3, 3, 3, 3, 3, 3, 3, 3, 3, 3, 3, 3, 3, 3, 3, 3, 3,\n",
       "        3, 3, 3, 3, 3, 3, 2, 3, 4, 2, 3, 4, 2, 3, 4, 2, 3, 4, 2, 3, 4, 4,\n",
       "        2, 3, 4, 4, 2, 4, 3, 4, 4, 2, 4, 3, 4, 3, 4, 2, 4, 3, 3, 4, 3, 4,\n",
       "        2, 4, 3, 4, 3, 4, 3, 4, 2, 4, 3, 4, 3, 4, 3, 4, 2, 4, 3, 4, 3, 4,\n",
       "        3, 4, 2, 4, 3, 4, 3, 4, 3, 4, 2, 4, 4, 3, 4, 3, 3, 4, 3, 4, 2, 4,\n",
       "        4, 3, 4, 3, 3, 4, 3, 4, 2, 3, 4, 4, 3, 4, 3, 3, 4, 2, 3, 4, 2, 3,\n",
       "        4, 4, 3, 4, 3, 3, 4, 2, 3, 4, 2, 3, 4, 4, 3, 4, 3, 3, 4, 2, 3, 4,\n",
       "        2, 3, 4, 4, 3, 4, 3, 3, 4, 2, 3, 4, 2, 3, 4, 4, 3, 4, 3, 3, 3, 4,\n",
       "        2, 3, 4, 2, 3, 4, 4, 3, 4, 3, 3, 2, 3, 4, 2, 3, 4, 2, 3, 4, 4, 3,\n",
       "        4, 3, 3, 2, 3, 4, 2, 3, 4, 2, 3, 4, 4, 3, 4, 3, 3, 2, 3, 4, 2, 3,\n",
       "        4, 2, 3, 4, 4, 3, 4, 3, 3, 2, 3, 4, 2, 3, 4, 2, 3, 4, 4, 3, 4, 3,\n",
       "        3, 2, 3, 4, 2, 3, 4, 2, 3, 4, 4, 3, 4, 3, 3, 2, 3, 4, 2, 3, 4, 2,\n",
       "        3, 4, 4, 3, 4, 3, 3, 2, 3, 4, 2, 3, 4, 2, 3, 4, 4, 3, 4, 3, 3, 2,\n",
       "        3, 4, 2, 3, 4, 2, 3, 4, 4, 3, 3, 4, 3, 3, 2, 3, 4, 2, 3, 4, 2, 3,\n",
       "        4, 4, 3, 3, 4, 3, 3, 2, 3, 4, 2, 3, 4, 3, 2, 3, 4, 4, 3, 3, 4, 3,\n",
       "        3, 2, 3, 4, 2, 3, 4, 3, 2, 3, 4, 4, 3, 3, 4, 3, 3, 2, 3, 4, 2, 3,\n",
       "        4, 3, 2, 3, 4, 2, 4, 3, 3, 4, 3, 3, 2, 3, 4, 2, 3, 4, 3, 2, 3, 4,\n",
       "        2, 4, 3, 3, 4, 3, 3, 2, 3, 4, 2, 3, 4, 3, 2, 3, 4, 2, 4, 3, 3, 3,\n",
       "        4, 3, 3, 2, 3, 4, 2, 3, 4, 3, 2, 3, 4, 2, 4, 3, 3, 3, 4, 3, 3, 2,\n",
       "        3, 4, 2, 3, 4, 3, 2, 3, 4, 2, 4, 3, 3, 3, 4, 3, 3, 2, 3, 4, 2, 3,\n",
       "        4, 3, 2, 3, 4, 2, 4, 3, 3, 3, 4, 3, 3, 2, 3, 4, 2, 2, 3, 4, 3, 2,\n",
       "        3, 4, 2, 4, 3, 3, 3, 4, 3, 3, 2, 3, 4, 2, 2, 3, 4, 3, 2, 3, 4, 2,\n",
       "        4, 3, 3, 3, 4, 3, 3, 2, 3, 4, 2, 2, 3, 4, 3, 2, 3, 4, 2, 4, 3, 3,\n",
       "        3, 4, 3, 3, 2, 3, 4, 2, 2, 3, 4, 3, 2, 3, 4, 2, 4, 3, 3, 3, 4, 3,\n",
       "        3, 2, 3, 4, 2, 2, 3, 4, 3, 2, 3, 4, 2, 4, 2, 3, 4, 3, 3, 4, 3, 3,\n",
       "        2, 3, 4, 2, 2, 3, 4, 3, 2, 3, 4, 2, 4, 2, 3, 4, 3, 3, 4, 3, 3, 2,\n",
       "        3, 4, 2, 3, 2, 3, 4, 3, 2, 3, 4, 2, 4, 2, 3, 4, 3, 3, 4, 3, 3, 2,\n",
       "        3, 4, 2, 3, 2, 3, 4, 3, 2, 3, 4, 2, 4, 2, 3, 4, 3, 3, 4, 3, 3, 2,\n",
       "        3, 4, 2, 3, 2, 3, 4, 3, 2, 3, 4, 2, 4, 2, 3, 4, 3, 3, 4, 3, 3, 2,\n",
       "        3, 4, 2, 3, 2, 3, 4, 3, 2, 3, 4, 2, 4, 2, 3, 4, 3, 3, 4, 3, 3, 2,\n",
       "        3, 4, 2, 3, 2, 3, 4, 3, 2, 3, 4, 2, 4, 2, 3, 4, 3, 3, 4, 3, 3, 2,\n",
       "        3, 4, 2, 3, 2, 3, 4, 3, 2, 3, 4, 2, 4, 2, 3, 4, 3, 3, 4, 3, 3, 2,\n",
       "        3, 4, 2, 3, 2, 3, 4, 3, 2, 3, 4, 2, 4, 2, 3, 4, 3, 3, 4, 3, 3, 3,\n",
       "        2, 3, 4, 2, 3, 2, 3, 4, 3, 2, 3, 4, 2, 4, 2, 3, 4, 3, 3, 4, 3, 3,\n",
       "        3, 2, 3, 4, 2, 3, 2, 3, 4, 3, 2, 3, 4, 2, 4, 2, 3, 4, 3, 3, 4, 3,\n",
       "        3, 3, 2, 3, 4, 2, 3, 2, 3, 4, 3, 2, 3, 4, 2, 4, 2, 3, 4, 3, 3, 4,\n",
       "        3, 3, 3, 2, 3, 4, 3, 2, 3, 2, 3, 4, 3, 2, 3, 4, 2, 4, 2, 3, 4, 3,\n",
       "        3, 4, 3, 3, 3, 2, 3, 4, 3, 3, 2, 3, 2, 3, 4, 3, 2, 3, 4, 2, 4, 2,\n",
       "        3, 4, 3, 3, 4, 3, 3, 3, 2, 3, 4, 3, 3, 2, 3, 3, 2, 3, 4, 3, 2, 3,\n",
       "        4, 2, 4], dtype=int64))"
      ]
     },
     "execution_count": 9,
     "metadata": {},
     "output_type": "execute_result"
    }
   ],
   "source": [
    "from scipy.stats import zscore\n",
    "import numpy as np\n",
    "z = np.abs(zscore(df))\n",
    "np.where(z>3)"
   ]
  },
  {
   "cell_type": "code",
   "execution_count": 10,
   "metadata": {},
   "outputs": [
    {
     "data": {
      "text/plain": [
       "3.13147210893684"
      ]
     },
     "execution_count": 10,
     "metadata": {},
     "output_type": "execute_result"
    }
   ],
   "source": [
    "z[7932][3]"
   ]
  },
  {
   "cell_type": "code",
   "execution_count": 11,
   "metadata": {},
   "outputs": [
    {
     "data": {
      "text/plain": [
       "9.167424195549778"
      ]
     },
     "execution_count": 11,
     "metadata": {},
     "output_type": "execute_result"
    }
   ],
   "source": [
    "z[23678][4]"
   ]
  },
  {
   "cell_type": "code",
   "execution_count": 12,
   "metadata": {},
   "outputs": [],
   "source": [
    "df_new = df[(z<=3).all(axis=1)]"
   ]
  },
  {
   "cell_type": "code",
   "execution_count": 13,
   "metadata": {},
   "outputs": [
    {
     "data": {
      "text/plain": [
       "(23688, 5)"
      ]
     },
     "execution_count": 13,
     "metadata": {},
     "output_type": "execute_result"
    }
   ],
   "source": [
    "df.shape"
   ]
  },
  {
   "cell_type": "code",
   "execution_count": 14,
   "metadata": {},
   "outputs": [
    {
     "data": {
      "text/plain": [
       "(23177, 5)"
      ]
     },
     "execution_count": 14,
     "metadata": {},
     "output_type": "execute_result"
    }
   ],
   "source": [
    "df_new.shape"
   ]
  },
  {
   "cell_type": "code",
   "execution_count": 15,
   "metadata": {},
   "outputs": [
    {
     "data": {
      "text/plain": [
       "Date          0.000000\n",
       "Country       0.000000\n",
       "Confirmed    18.674502\n",
       "Recovered    10.662286\n",
       "Deaths       14.218167\n",
       "dtype: float64"
      ]
     },
     "execution_count": 15,
     "metadata": {},
     "output_type": "execute_result"
    }
   ],
   "source": [
    "df.skew()\n"
   ]
  },
  {
   "cell_type": "code",
   "execution_count": 16,
   "metadata": {},
   "outputs": [],
   "source": [
    "from sklearn.preprocessing import power_transform"
   ]
  },
  {
   "cell_type": "code",
   "execution_count": 17,
   "metadata": {},
   "outputs": [],
   "source": [
    "X = df.drop(['Deaths'], axis=1)\n",
    "y = df['Deaths']"
   ]
  },
  {
   "cell_type": "code",
   "execution_count": 18,
   "metadata": {},
   "outputs": [],
   "source": [
    "X = pd.DataFrame(power_transform(X), columns=X.columns)"
   ]
  },
  {
   "cell_type": "code",
   "execution_count": 19,
   "metadata": {},
   "outputs": [],
   "source": [
    "sc = StandardScaler()\n",
    "X = pd.DataFrame(sc.fit_transform(X), columns=X.columns)"
   ]
  },
  {
   "cell_type": "code",
   "execution_count": 20,
   "metadata": {},
   "outputs": [
    {
     "data": {
      "text/html": [
       "<div>\n",
       "<style scoped>\n",
       "    .dataframe tbody tr th:only-of-type {\n",
       "        vertical-align: middle;\n",
       "    }\n",
       "\n",
       "    .dataframe tbody tr th {\n",
       "        vertical-align: top;\n",
       "    }\n",
       "\n",
       "    .dataframe thead th {\n",
       "        text-align: right;\n",
       "    }\n",
       "</style>\n",
       "<table border=\"1\" class=\"dataframe\">\n",
       "  <thead>\n",
       "    <tr style=\"text-align: right;\">\n",
       "      <th></th>\n",
       "      <th>Date</th>\n",
       "      <th>Country</th>\n",
       "      <th>Confirmed</th>\n",
       "      <th>Recovered</th>\n",
       "    </tr>\n",
       "  </thead>\n",
       "  <tbody>\n",
       "    <tr>\n",
       "      <th>0</th>\n",
       "      <td>-2.08504</td>\n",
       "      <td>-2.109559</td>\n",
       "      <td>-1.125252</td>\n",
       "      <td>-0.931988</td>\n",
       "    </tr>\n",
       "    <tr>\n",
       "      <th>1</th>\n",
       "      <td>-2.08504</td>\n",
       "      <td>-2.052431</td>\n",
       "      <td>-1.125252</td>\n",
       "      <td>-0.931988</td>\n",
       "    </tr>\n",
       "    <tr>\n",
       "      <th>2</th>\n",
       "      <td>-2.08504</td>\n",
       "      <td>-2.003294</td>\n",
       "      <td>-1.125252</td>\n",
       "      <td>-0.931988</td>\n",
       "    </tr>\n",
       "    <tr>\n",
       "      <th>3</th>\n",
       "      <td>-2.08504</td>\n",
       "      <td>-1.958719</td>\n",
       "      <td>-1.125252</td>\n",
       "      <td>-0.931988</td>\n",
       "    </tr>\n",
       "    <tr>\n",
       "      <th>4</th>\n",
       "      <td>-2.08504</td>\n",
       "      <td>-1.917256</td>\n",
       "      <td>-1.125252</td>\n",
       "      <td>-0.931988</td>\n",
       "    </tr>\n",
       "  </tbody>\n",
       "</table>\n",
       "</div>"
      ],
      "text/plain": [
       "      Date   Country  Confirmed  Recovered\n",
       "0 -2.08504 -2.109559  -1.125252  -0.931988\n",
       "1 -2.08504 -2.052431  -1.125252  -0.931988\n",
       "2 -2.08504 -2.003294  -1.125252  -0.931988\n",
       "3 -2.08504 -1.958719  -1.125252  -0.931988\n",
       "4 -2.08504 -1.917256  -1.125252  -0.931988"
      ]
     },
     "execution_count": 20,
     "metadata": {},
     "output_type": "execute_result"
    }
   ],
   "source": [
    "X.head()"
   ]
  },
  {
   "cell_type": "code",
   "execution_count": 21,
   "metadata": {},
   "outputs": [],
   "source": [
    "X_train, X_test, y_train, y_test = train_test_split(X, y, test_size=0.3 ,random_state=42)"
   ]
  },
  {
   "cell_type": "code",
   "execution_count": 22,
   "metadata": {},
   "outputs": [
    {
     "data": {
      "text/plain": [
       "(16581, 4)"
      ]
     },
     "execution_count": 22,
     "metadata": {},
     "output_type": "execute_result"
    }
   ],
   "source": [
    "X_train.shape"
   ]
  },
  {
   "cell_type": "code",
   "execution_count": 23,
   "metadata": {},
   "outputs": [
    {
     "data": {
      "text/plain": [
       "(16581,)"
      ]
     },
     "execution_count": 23,
     "metadata": {},
     "output_type": "execute_result"
    }
   ],
   "source": [
    "y_train.shape"
   ]
  },
  {
   "cell_type": "code",
   "execution_count": 24,
   "metadata": {},
   "outputs": [],
   "source": [
    "lm = LinearRegression()"
   ]
  },
  {
   "cell_type": "code",
   "execution_count": 25,
   "metadata": {},
   "outputs": [
    {
     "data": {
      "text/plain": [
       "LinearRegression()"
      ]
     },
     "execution_count": 25,
     "metadata": {},
     "output_type": "execute_result"
    }
   ],
   "source": [
    "lm.fit(X_train, y_train)"
   ]
  },
  {
   "cell_type": "code",
   "execution_count": 26,
   "metadata": {},
   "outputs": [
    {
     "data": {
      "text/plain": [
       "array([-519.60348942,  245.97666398, 1196.64167178,  151.18655951])"
      ]
     },
     "execution_count": 26,
     "metadata": {},
     "output_type": "execute_result"
    }
   ],
   "source": [
    "lm.coef_"
   ]
  },
  {
   "cell_type": "code",
   "execution_count": 27,
   "metadata": {},
   "outputs": [
    {
     "data": {
      "text/plain": [
       "511.96693486239457"
      ]
     },
     "execution_count": 27,
     "metadata": {},
     "output_type": "execute_result"
    }
   ],
   "source": [
    "lm.intercept_"
   ]
  },
  {
   "cell_type": "code",
   "execution_count": 28,
   "metadata": {},
   "outputs": [
    {
     "data": {
      "text/plain": [
       "0.06866235853631264"
      ]
     },
     "execution_count": 28,
     "metadata": {},
     "output_type": "execute_result"
    }
   ],
   "source": [
    "lm.score(X_train, y_train)"
   ]
  },
  {
   "cell_type": "code",
   "execution_count": 29,
   "metadata": {},
   "outputs": [
    {
     "name": "stdout",
     "output_type": "stream",
     "text": [
      "Predicted result price:  [-423.02624992  -65.17158219 -410.28158296 ... -605.16053325  935.32173121\n",
      " -669.57800774]\n",
      "actual price:  2300        0\n",
      "14284       0\n",
      "7298        0\n",
      "7733        0\n",
      "19527    1784\n",
      "         ... \n",
      "1330        0\n",
      "14878      24\n",
      "9431        0\n",
      "16168      30\n",
      "4744        0\n",
      "Name: Deaths, Length: 7107, dtype: int64\n"
     ]
    }
   ],
   "source": [
    "pred = lm.predict(X_test)\n",
    "print('Predicted result price: ', pred)\n",
    "print('actual price: ', y_test)"
   ]
  },
  {
   "cell_type": "code",
   "execution_count": 30,
   "metadata": {},
   "outputs": [
    {
     "name": "stdout",
     "output_type": "stream",
     "text": [
      "Error: \n",
      "Mean absolute error:  1197.8302703836282\n",
      "Mean squared error:  17154142.498526435\n",
      "Root mean square error:  4141.755968007584\n"
     ]
    }
   ],
   "source": [
    "print('Error: ')\n",
    "\n",
    "print('Mean absolute error: ', mean_absolute_error(y_test,pred))\n",
    "print('Mean squared error: ', mean_squared_error(y_test,pred))\n",
    "\n",
    "\n",
    "print('Root mean square error: ', np.sqrt(mean_squared_error(y_test, pred)))"
   ]
  },
  {
   "cell_type": "code",
   "execution_count": 31,
   "metadata": {},
   "outputs": [
    {
     "name": "stdout",
     "output_type": "stream",
     "text": [
      "0.06831716067385551\n"
     ]
    }
   ],
   "source": [
    "from sklearn.metrics import r2_score\n",
    "\n",
    "print(r2_score(y_test, pred))"
   ]
  },
  {
   "cell_type": "code",
   "execution_count": 32,
   "metadata": {},
   "outputs": [],
   "source": [
    "from sklearn.ensemble import AdaBoostRegressor\n",
    "from sklearn.datasets import make_regression"
   ]
  },
  {
   "cell_type": "code",
   "execution_count": 33,
   "metadata": {},
   "outputs": [],
   "source": [
    "X, y = make_regression(n_features=4, n_informative=2, random_state=83, shuffle=False)"
   ]
  },
  {
   "cell_type": "code",
   "execution_count": 38,
   "metadata": {},
   "outputs": [],
   "source": [
    "regr = AdaBoostRegressor(random_state=56, n_estimators=100)"
   ]
  },
  {
   "cell_type": "code",
   "execution_count": 39,
   "metadata": {},
   "outputs": [
    {
     "data": {
      "text/plain": [
       "AdaBoostRegressor(n_estimators=100, random_state=56)"
      ]
     },
     "execution_count": 39,
     "metadata": {},
     "output_type": "execute_result"
    }
   ],
   "source": [
    "regr.fit(X, y)"
   ]
  },
  {
   "cell_type": "code",
   "execution_count": 40,
   "metadata": {},
   "outputs": [
    {
     "data": {
      "text/plain": [
       "-0.015310209016405674"
      ]
     },
     "execution_count": 40,
     "metadata": {},
     "output_type": "execute_result"
    }
   ],
   "source": [
    "regr.score(X_train, y_train)"
   ]
  },
  {
   "cell_type": "code",
   "execution_count": 42,
   "metadata": {},
   "outputs": [],
   "source": [
    "#Defining function for best random_state\n",
    "def get_best_rstate(r,model,x,y,test_size=0.25):\n",
    "    best_rState = 0\n",
    "    best_r2Score = 0\n",
    "    for i in r:\n",
    "        x_train,x_test,y_train,y_test = train_test_split(x,y,test_size=test_size,random_state=i)\n",
    "        \n",
    "        model.fit(x_train,y_train)\n",
    "        predict_y = model.predict(x_test)\n",
    "        \n",
    "        temp_r2Score = r2_score(y_test,predict_y)\n",
    "        if temp_r2Score>best_r2Score:\n",
    "            best_r2Score = temp_r2Score\n",
    "            best_rState = i\n",
    "            \n",
    "    return best_rState,best_r2Score\n",
    "\n",
    "\n",
    "#Defining function for best CV\n",
    "def get_best_cv(model,parameters,x_train,y_train,r=range(2,20)):\n",
    "    best_cv = 0\n",
    "    best_cvScore = 0\n",
    "    for i in r:\n",
    "        gscv = GridSearchCV(model,parameters)\n",
    "        gscv.fit(x_train,y_train)\n",
    "        \n",
    "        temp_cvScore = cross_val_score(gscv.best_estimator_,x_train,y_train,cv=i).mean()\n",
    "        if temp_cvScore>best_cvScore:\n",
    "            best_cvScore = temp_cvScore\n",
    "            best_cv = i\n",
    "            \n",
    "    return best_cv,best_cvScore\n",
    "\n",
    "#Defining function for building models\n",
    "def build_model(models,x,y,r_range=range(100),t_size=0.25,cv_range=range(2,20)):\n",
    "    for i in models:\n",
    "        #Finding the best random_state for train test split\n",
    "        best_rState, best_r2Score = get_best_rstate(r_range,models[i][\"name\"],x,y)\n",
    "        \n",
    "        #Splitting train test data with best random_state\n",
    "        x_train,x_test,y_train,y_test = train_test_split(x,y,test_size=t_size,random_state=best_rState)\n",
    "        \n",
    "        #Hypertuning Parameters\n",
    "        #Finding best CV\n",
    "        best_cv, best_cvScore = get_best_cv(models[i][\"name\"],models[i][\"parameters\"],x_train,y_train,cv_range)\n",
    "        \n",
    "        #Building final model with hypertuned parameters\n",
    "        gscv = GridSearchCV(models[i][\"name\"],models[i][\"parameters\"],cv=best_cv)\n",
    "        gscv.fit(x_train,y_train)\n",
    "        \n",
    "        #Checking Final Performance of the model\n",
    "        predict_y = gscv.best_estimator_.predict(x_test)\n",
    "        r2Score = r2_score(y_test,predict_y)\n",
    "        mse = mean_squared_error(y_test,predict_y)\n",
    "        mae = mean_absolute_error(y_test,predict_y)\n",
    "        \n",
    "        #Storing model specs.\n",
    "        models[i][\"random_state\"] = best_rState\n",
    "        models[i][\"initial_r2_score\"] = best_r2Score\n",
    "        models[i][\"x_train\"] = x_train\n",
    "        models[i][\"x_test\"] = x_test\n",
    "        models[i][\"y_train\"] = y_train\n",
    "        models[i][\"y_test\"] = y_test\n",
    "        models[i][\"cv\"] = best_cv\n",
    "        models[i][\"cross_val_score\"] = best_cvScore\n",
    "        models[i][\"gscv\"] = gscv\n",
    "        models[i][\"predict_y\"] = predict_y\n",
    "        models[i][\"r2_score\"] = r2Score\n",
    "        models[i][\"mse\"] = mse\n",
    "        models[i][\"rmse\"] = np.sqrt(mse)\n",
    "        models[i][\"mae\"] = mae\n",
    "        \n",
    "    return models;"
   ]
  },
  {
   "cell_type": "code",
   "execution_count": 44,
   "metadata": {},
   "outputs": [],
   "source": [
    "from sklearn.model_selection import train_test_split, cross_val_score, GridSearchCV\n",
    "from sklearn.metrics import r2_score, mean_squared_error, mean_absolute_error"
   ]
  },
  {
   "cell_type": "code",
   "execution_count": 45,
   "metadata": {},
   "outputs": [],
   "source": [
    "import warnings\n",
    "warnings.simplefilter('ignore')\n",
    "from sklearn.linear_model import LinearRegression, Lasso, Ridge, SGDRegressor\n",
    "from sklearn.ensemble import AdaBoostRegressor\n",
    "#Preparing List of Models with parameters\n",
    "models = {\n",
    "    \"LinearRegression\":{\n",
    "        \"name\": LinearRegression(),\n",
    "        \"parameters\":{\n",
    "            \"fit_intercept\":[True,False],\n",
    "            \"normalize\":[True,False]\n",
    "        }\n",
    "    },\n",
    "    \"Lasso\":{\n",
    "        \"name\": Lasso(),\n",
    "        \"parameters\":{\n",
    "            \"alpha\":[0.1,1.0],\n",
    "            \"fit_intercept\":[True,False],\n",
    "            \"normalize\":[True,False],\n",
    "            \"selection\":['cyclic','random']\n",
    "        }\n",
    "    },\n",
    "    \"Ridge\":{\n",
    "        \"name\": Ridge(),\n",
    "        \"parameters\":{\n",
    "            \"alpha\":[0.1,1.0],\n",
    "            \"fit_intercept\":[True,False],\n",
    "            \"normalize\":[True,False],\n",
    "            \"solver\":['auto','svd','cholesky','lsqr','sparse_cg','sag','saga']\n",
    "        }\n",
    "    },\n",
    "    \"SGDRegressor\":{\n",
    "        \"name\": SGDRegressor(),\n",
    "        \"parameters\":{\n",
    "            \"loss\":['squared_loss','huber','epsilon_insensitive','squared_epsilon_insensitive'],\n",
    "            \"alpha\":[0.00001,0.0001],\n",
    "            \"shuffle\":[True,False]\n",
    "        }\n",
    "    },\n",
    "    \"AdaBoostRegressor\":{\n",
    "        \"name\": AdaBoostRegressor(),\n",
    "        \"parameters\": {\n",
    "            \"loss\": ['linear','square','exponential']\n",
    "        }\n",
    "    }\n",
    "}\n",
    "\n",
    "#Building models\n",
    "build_models = build_model(models,X,y)"
   ]
  },
  {
   "cell_type": "code",
   "execution_count": 46,
   "metadata": {},
   "outputs": [
    {
     "name": "stdout",
     "output_type": "stream",
     "text": [
      "START: LinearRegression===================\n",
      "\n",
      "Best random_state: 0 with best r2_score: 1.0\n",
      "\n",
      "Best CV: 2 with best cross_value_score: 1.0\n",
      "\n",
      "Best params: {'fit_intercept': True, 'normalize': True}\n",
      "\n",
      "Final Performance:\n",
      "R2_SCORE: 100.0%\t MSE: 1.4193500951098533e-27\t RMSE: 3.767426303340058e-14\t MAE: 2.7462476737127874e-14\n",
      "\n",
      "END: LinearRegression=====================\n",
      "\n",
      "\n",
      "\n",
      "START: Lasso===================\n",
      "\n",
      "Best random_state: 68 with best r2_score: 0.9998687947497263\n",
      "\n",
      "Best CV: 3 with best cross_value_score: 0.9999976067082401\n",
      "\n",
      "Best params: {'alpha': 0.1, 'fit_intercept': False, 'normalize': True, 'selection': 'cyclic'}\n",
      "\n",
      "Final Performance:\n",
      "R2_SCORE: 100.0%\t MSE: 0.010201366662749034\t RMSE: 0.10100181514581327\t MAE: 0.08166938672089813\n",
      "\n",
      "END: Lasso=====================\n",
      "\n",
      "\n",
      "\n",
      "START: Ridge===================\n",
      "\n",
      "Best random_state: 35 with best r2_score: 0.9998900355757279\n",
      "\n",
      "Best CV: 7 with best cross_value_score: 0.9999977487970041\n",
      "\n",
      "Best params: {'alpha': 0.1, 'fit_intercept': False, 'normalize': True, 'solver': 'lsqr'}\n",
      "\n",
      "Final Performance:\n",
      "R2_SCORE: 100.0%\t MSE: 0.006008718772691862\t RMSE: 0.07751592592939764\t MAE: 0.06309896796796301\n",
      "\n",
      "END: Ridge=====================\n",
      "\n",
      "\n",
      "\n",
      "START: SGDRegressor===================\n",
      "\n",
      "Best random_state: 60 with best r2_score: 0.9999994457191556\n",
      "\n",
      "Best CV: 7 with best cross_value_score: 0.9999989260055726\n",
      "\n",
      "Best params: {'alpha': 1e-05, 'loss': 'squared_loss', 'shuffle': True}\n",
      "\n",
      "Final Performance:\n",
      "R2_SCORE: 100.0%\t MSE: 0.003840655341786933\t RMSE: 0.0619730210800388\t MAE: 0.052351154997232925\n",
      "\n",
      "END: SGDRegressor=====================\n",
      "\n",
      "\n",
      "\n",
      "START: AdaBoostRegressor===================\n",
      "\n",
      "Best random_state: 90 with best r2_score: 0.9595704205943474\n",
      "\n",
      "Best CV: 4 with best cross_value_score: 0.9079555014102151\n",
      "\n",
      "Best params: {'loss': 'square'}\n",
      "\n",
      "Final Performance:\n",
      "R2_SCORE: 95.33%\t MSE: 456.0551952626245\t RMSE: 21.355448842452937\t MAE: 17.146378628564715\n",
      "\n",
      "END: AdaBoostRegressor=====================\n",
      "\n",
      "\n",
      "\n"
     ]
    }
   ],
   "source": [
    "#Dispalying model performance\n",
    "for i in build_models:\n",
    "    model = build_models[i]\n",
    "    print(f\"START: {i}===================\\n\")\n",
    "    print(f\"Best random_state: {model['random_state']} with best r2_score: {model['initial_r2_score']}\\n\")\n",
    "    print(f\"Best CV: {model['cv']} with best cross_value_score: {model['cross_val_score']}\\n\")\n",
    "    print(f\"Best params: {model['gscv'].best_params_}\\n\")\n",
    "    print(f\"Final Performance:\")\n",
    "    print(f\"R2_SCORE: {round(model['r2_score']*100,2)}%\\t MSE: {model['mse']}\\t RMSE: {model['rmse']}\\t MAE: {model['mae']}\\n\")\n",
    "    print(f\"END: {i}=====================\\n\\n\\n\")"
   ]
  },
  {
   "cell_type": "code",
   "execution_count": null,
   "metadata": {},
   "outputs": [],
   "source": []
  }
 ],
 "metadata": {
  "kernelspec": {
   "display_name": "Python 3",
   "language": "python",
   "name": "python3"
  },
  "language_info": {
   "codemirror_mode": {
    "name": "ipython",
    "version": 3
   },
   "file_extension": ".py",
   "mimetype": "text/x-python",
   "name": "python",
   "nbconvert_exporter": "python",
   "pygments_lexer": "ipython3",
   "version": "3.8.3"
  }
 },
 "nbformat": 4,
 "nbformat_minor": 4
}
