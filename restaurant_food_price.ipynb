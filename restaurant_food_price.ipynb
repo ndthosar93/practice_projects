{
 "cells": [
  {
   "cell_type": "code",
   "execution_count": 1,
   "metadata": {},
   "outputs": [],
   "source": [
    "import numpy as np\n",
    "import pandas as pd\n",
    "import matplotlib.pyplot as plt\n",
    "import seaborn as sns"
   ]
  },
  {
   "cell_type": "code",
   "execution_count": 2,
   "metadata": {},
   "outputs": [
    {
     "data": {
      "text/html": [
       "<div>\n",
       "<style scoped>\n",
       "    .dataframe tbody tr th:only-of-type {\n",
       "        vertical-align: middle;\n",
       "    }\n",
       "\n",
       "    .dataframe tbody tr th {\n",
       "        vertical-align: top;\n",
       "    }\n",
       "\n",
       "    .dataframe thead th {\n",
       "        text-align: right;\n",
       "    }\n",
       "</style>\n",
       "<table border=\"1\" class=\"dataframe\">\n",
       "  <thead>\n",
       "    <tr style=\"text-align: right;\">\n",
       "      <th></th>\n",
       "      <th>TITLE</th>\n",
       "      <th>RESTAURANT_ID</th>\n",
       "      <th>CUISINES</th>\n",
       "      <th>TIME</th>\n",
       "      <th>CITY</th>\n",
       "      <th>LOCALITY</th>\n",
       "      <th>RATING</th>\n",
       "      <th>VOTES</th>\n",
       "      <th>COST</th>\n",
       "    </tr>\n",
       "  </thead>\n",
       "  <tbody>\n",
       "    <tr>\n",
       "      <th>0</th>\n",
       "      <td>CASUAL DINING</td>\n",
       "      <td>9438</td>\n",
       "      <td>Malwani, Goan, North Indian</td>\n",
       "      <td>11am – 4pm, 7:30pm – 11:30pm (Mon-Sun)</td>\n",
       "      <td>Thane</td>\n",
       "      <td>Dombivali East</td>\n",
       "      <td>3.6</td>\n",
       "      <td>49 votes</td>\n",
       "      <td>1200</td>\n",
       "    </tr>\n",
       "    <tr>\n",
       "      <th>1</th>\n",
       "      <td>CASUAL DINING,BAR</td>\n",
       "      <td>13198</td>\n",
       "      <td>Asian, Modern Indian, Japanese</td>\n",
       "      <td>6pm – 11pm (Mon-Sun)</td>\n",
       "      <td>Chennai</td>\n",
       "      <td>Ramapuram</td>\n",
       "      <td>4.2</td>\n",
       "      <td>30 votes</td>\n",
       "      <td>1500</td>\n",
       "    </tr>\n",
       "    <tr>\n",
       "      <th>2</th>\n",
       "      <td>CASUAL DINING</td>\n",
       "      <td>10915</td>\n",
       "      <td>North Indian, Chinese, Biryani, Hyderabadi</td>\n",
       "      <td>11am – 3:30pm, 7pm – 11pm (Mon-Sun)</td>\n",
       "      <td>Chennai</td>\n",
       "      <td>Saligramam</td>\n",
       "      <td>3.8</td>\n",
       "      <td>221 votes</td>\n",
       "      <td>800</td>\n",
       "    </tr>\n",
       "    <tr>\n",
       "      <th>3</th>\n",
       "      <td>QUICK BITES</td>\n",
       "      <td>6346</td>\n",
       "      <td>Tibetan, Chinese</td>\n",
       "      <td>11:30am – 1am (Mon-Sun)</td>\n",
       "      <td>Mumbai</td>\n",
       "      <td>Bandra West</td>\n",
       "      <td>4.1</td>\n",
       "      <td>24 votes</td>\n",
       "      <td>800</td>\n",
       "    </tr>\n",
       "    <tr>\n",
       "      <th>4</th>\n",
       "      <td>DESSERT PARLOR</td>\n",
       "      <td>15387</td>\n",
       "      <td>Desserts</td>\n",
       "      <td>11am – 1am (Mon-Sun)</td>\n",
       "      <td>Mumbai</td>\n",
       "      <td>Lower Parel</td>\n",
       "      <td>3.8</td>\n",
       "      <td>165 votes</td>\n",
       "      <td>300</td>\n",
       "    </tr>\n",
       "  </tbody>\n",
       "</table>\n",
       "</div>"
      ],
      "text/plain": [
       "               TITLE  RESTAURANT_ID  \\\n",
       "0      CASUAL DINING           9438   \n",
       "1  CASUAL DINING,BAR          13198   \n",
       "2      CASUAL DINING          10915   \n",
       "3        QUICK BITES           6346   \n",
       "4     DESSERT PARLOR          15387   \n",
       "\n",
       "                                     CUISINES  \\\n",
       "0                 Malwani, Goan, North Indian   \n",
       "1              Asian, Modern Indian, Japanese   \n",
       "2  North Indian, Chinese, Biryani, Hyderabadi   \n",
       "3                            Tibetan, Chinese   \n",
       "4                                    Desserts   \n",
       "\n",
       "                                     TIME     CITY        LOCALITY RATING  \\\n",
       "0  11am – 4pm, 7:30pm – 11:30pm (Mon-Sun)    Thane  Dombivali East    3.6   \n",
       "1                    6pm – 11pm (Mon-Sun)  Chennai       Ramapuram    4.2   \n",
       "2     11am – 3:30pm, 7pm – 11pm (Mon-Sun)  Chennai      Saligramam    3.8   \n",
       "3                 11:30am – 1am (Mon-Sun)   Mumbai     Bandra West    4.1   \n",
       "4                    11am – 1am (Mon-Sun)   Mumbai     Lower Parel    3.8   \n",
       "\n",
       "       VOTES  COST  \n",
       "0   49 votes  1200  \n",
       "1   30 votes  1500  \n",
       "2  221 votes   800  \n",
       "3   24 votes   800  \n",
       "4  165 votes   300  "
      ]
     },
     "execution_count": 2,
     "metadata": {},
     "output_type": "execute_result"
    }
   ],
   "source": [
    "df = pd.read_excel('Data_Train.xlsx')\n",
    "df.head()"
   ]
  },
  {
   "cell_type": "code",
   "execution_count": 3,
   "metadata": {},
   "outputs": [
    {
     "name": "stdout",
     "output_type": "stream",
     "text": [
      "<class 'pandas.core.frame.DataFrame'>\n",
      "RangeIndex: 12690 entries, 0 to 12689\n",
      "Data columns (total 9 columns):\n",
      " #   Column         Non-Null Count  Dtype \n",
      "---  ------         --------------  ----- \n",
      " 0   TITLE          12690 non-null  object\n",
      " 1   RESTAURANT_ID  12690 non-null  int64 \n",
      " 2   CUISINES       12690 non-null  object\n",
      " 3   TIME           12690 non-null  object\n",
      " 4   CITY           12578 non-null  object\n",
      " 5   LOCALITY       12592 non-null  object\n",
      " 6   RATING         12688 non-null  object\n",
      " 7   VOTES          11486 non-null  object\n",
      " 8   COST           12690 non-null  int64 \n",
      "dtypes: int64(2), object(7)\n",
      "memory usage: 892.4+ KB\n"
     ]
    }
   ],
   "source": [
    "df.info()"
   ]
  },
  {
   "cell_type": "code",
   "execution_count": null,
   "metadata": {},
   "outputs": [],
   "source": []
  },
  {
   "cell_type": "code",
   "execution_count": 4,
   "metadata": {},
   "outputs": [
    {
     "data": {
      "text/plain": [
       "<matplotlib.axes._subplots.AxesSubplot at 0x1df0bb6f1c0>"
      ]
     },
     "execution_count": 4,
     "metadata": {},
     "output_type": "execute_result"
    },
    {
     "data": {
      "image/png": "[encoded data removed]",
      "text/plain": [
       "<Figure size 432x288 with 2 Axes>"
      ]
     },
     "metadata": {
      "needs_background": "light"
     },
     "output_type": "display_data"
    }
   ],
   "source": [
    "sns.heatmap(df.corr(), annot=True)"
   ]
  },
  {
   "cell_type": "code",
   "execution_count": 5,
   "metadata": {},
   "outputs": [
    {
     "data": {
      "text/plain": [
       "array(['3.6', '4.2', '3.8', '4.1', '4.0', '4.3', '3.9', '3.3', '3.4', '-',\n",
       "       '4.5', '3.5', '4.4', '2.7', '3.7', '4.7', 'NEW', '3.1', '2.5',\n",
       "       '4.6', '2.8', nan, '3.0', '3.2', '2.6', '2.9', '4.9', '4.8', '2.4',\n",
       "       '2.3', '2.0', '2.1', '2.2'], dtype=object)"
      ]
     },
     "execution_count": 5,
     "metadata": {},
     "output_type": "execute_result"
    }
   ],
   "source": [
    "df['RATING'].unique()"
   ]
  },
  {
   "cell_type": "code",
   "execution_count": 6,
   "metadata": {},
   "outputs": [],
   "source": [
    "df[\"RATING\"].replace(\"NEW\",0,inplace=True)\n",
    "df[\"RATING\"].replace(\"-\",0,inplace=True)\n",
    "df[\"RATING\"].fillna(0,inplace=True)\n",
    "df['RATING'] = df['RATING'].astype(float)"
   ]
  },
  {
   "cell_type": "code",
   "execution_count": 7,
   "metadata": {},
   "outputs": [
    {
     "data": {
      "text/plain": [
       "TITLE             object\n",
       "RESTAURANT_ID      int64\n",
       "CUISINES          object\n",
       "TIME              object\n",
       "CITY              object\n",
       "LOCALITY          object\n",
       "RATING           float64\n",
       "VOTES             object\n",
       "COST               int64\n",
       "dtype: object"
      ]
     },
     "execution_count": 7,
     "metadata": {},
     "output_type": "execute_result"
    }
   ],
   "source": [
    "df.dtypes"
   ]
  },
  {
   "cell_type": "code",
   "execution_count": 8,
   "metadata": {},
   "outputs": [
    {
     "data": {
      "text/plain": [
       "TITLE               0\n",
       "RESTAURANT_ID       0\n",
       "CUISINES            0\n",
       "TIME                0\n",
       "CITY              112\n",
       "LOCALITY           98\n",
       "RATING              0\n",
       "VOTES            1204\n",
       "COST                0\n",
       "dtype: int64"
      ]
     },
     "execution_count": 8,
     "metadata": {},
     "output_type": "execute_result"
    }
   ],
   "source": [
    "df.isnull().sum()"
   ]
  },
  {
   "cell_type": "code",
   "execution_count": 9,
   "metadata": {},
   "outputs": [
    {
     "data": {
      "text/plain": [
       "array(['Thane', 'Chennai', 'Mumbai', 'Bangalore', 'Gurgaon', 'Hyderabad',\n",
       "       'Kochi', 'Thane West', 'Andheri Lokhandwala', 'New Delhi',\n",
       "       'Andheri West', 'Malad East', '682036', 'Bangalor', 'Navi Mumbai',\n",
       "       'Bandra West', 'Delhi', 'Noida', 'Bangalore-560066',\n",
       "       'Secunderabad', nan, 'India', 'Madhuranagar', 'Chennai Teynampet',\n",
       "       'Faridabad', 'Chembur.', 'Maharashtra', 'opp gurudwara Shakurpur',\n",
       "       'Telagana Land Line:040-48507016', 'Ghaziabad', 'Karnataka',\n",
       "       'Kerala', 'Edappally', 'Kadavanthra', 'Ernakulam Circle kochi',\n",
       "       'Bengalore', 'Near Reliance Fresh', 'Kilpauk', 'Bengaluru',\n",
       "       'Kothaguda', 'Goregaon West', 'Banglore', 'Tamil Nadu', 'Kakkanad',\n",
       "       'Kochi Elamkulam', 'Outer Ring Road', 'Mulund East',\n",
       "       'Secunderabad main road near signal NMREC COLLEGE', 'Telangana',\n",
       "       'Ponnuruni Kochi', 'Gachibowli', 'Semmancheri',\n",
       "       '5th Main Teachers Colony Koramangala Block 1 Bangalore 560034',\n",
       "       'Mumbai Mahim', 'Powai (Next to Powai Plaza)', 'Dombivali East',\n",
       "       'Kochi Vyttila', 'Kandivali', 'Kochi Palarivattom',\n",
       "       'Dewan Rama Road', 'Gurugram', 'Sector 51 Noida', 'Kaloor',\n",
       "       'Besant Nagar', 'Arumbakkam chennai-600106.',\n",
       "       'Adjacent To Commercial Street', 'Delhi NCR', 'Dwarka', '682035.',\n",
       "       'Kalyan West', 'Avadi', 'Kondapur', 'Mehdipatnam', 'Gandipet',\n",
       "       'Velachery', 'Pallavaram', 'Vijaya Nagar', 'BTM Layout',\n",
       "       'Chennai 600034.',\n",
       "       'Metro Pillar No 21. Mettuguda main road near railway degree college.',\n",
       "       'Chennai - 600040', 'JP Nagar Bangalore', 'Madhapur', 'Ernakulam',\n",
       "       'Sarjapur', 'Whitefield Bangalore', 'Kochi Chullickal',\n",
       "       'Kochi-683101', 'Bangalore - 560076', 'Rohini',\n",
       "       'Hyderabad Behind Vacs Pastries', 'Hyderabad neerus emporium.',\n",
       "       'Navi Mumbai.', 'Karol Bagh', 'Perungudi', 'Thykoodam',\n",
       "       'Greater Noida', 'Bangalore.', 'Khairatabad', 'chullickal',\n",
       "       'Grant Road West', 'Hitech City', 'West Maredpally',\n",
       "       'Mumbai - 400007', 'Chennai Padur', 'Chander Nagar New Delhi',\n",
       "       'Nedumbassery', 'MG Road', 'Naya Nagar Mira Road', 'Pitampura',\n",
       "       'Lower Parel', 'HBR Layout', 'Telangana 500003',\n",
       "       'Rajiv gandhi Nagar', 'New Delhi.', 'Medavakkam', 'Sathya Nagar',\n",
       "       'p.o Kochi', 'Behind Ramalayam Temple', 'Palarivattom',\n",
       "       'Brigade Road', 'Mumbai.', 'Mumbai Andheri East', 'Virar West',\n",
       "       'B-1 Stage', 'Chennai Kovalam', 'Hyderabad.', 'Aluva',\n",
       "       'Telangana 500034', 'IOB Bank Kamala Nagar', 'HSR Layout',\n",
       "       'Marine Drive', 'DLF Galleria', 'Nallathambi Main Road',\n",
       "       'Chennai opp: Vasanth & co', 'Citypark', 'Karnataka 560103',\n",
       "       'Bhayandar', 'Aluva Circle', 'Thammenahalli Village', 'SG Palya',\n",
       "       'Attapur.', 'Near Shangrilla Bus Stop', 'Khar (west)', 'Road 3',\n",
       "       'Kukatpally', 'Faridabd', 'Telangana 500032', 'Dilsukhnagar',\n",
       "       'Mogappair. Chennai', 'Near Munrshwara Temple', 'Off Brigade Road',\n",
       "       'khar west', 'Potheri', 'Chennai Perungudi',\n",
       "       'Chennai Thuraipakkam', 'OMR Karapakkam', 'Hyderabad-500032',\n",
       "       'Mumbai Dombivali East', 'Chennai Thousand Lights', 'Mahim',\n",
       "       'Lingampally', 'Powai', 'New Delhi-110024', 'Chennai- 600107',\n",
       "       'Kerala 683104', 'Vasai West.', 'Thane (W)',\n",
       "       'Near Santosh Banjara Hyderabad',\n",
       "       'Banaswadi (Next to Indian Bank) Bangalore', 'BTM Bangalore',\n",
       "       'Greater Kailash 2 New Delhi', 'Secunderabad ECIL',\n",
       "       'Bangalore Koramangala 7th Block', 'bangalore : 560085',\n",
       "       'navi mumbai', 'Gachibowli Hyderabad',\n",
       "       'CPR layout harlur main road opposite to ozone ever green apartment Bangalore -',\n",
       "       'ECR NEELANKARAI Chennai 600115', 'ward X11', 'kochi',\n",
       "       'Perumbavoor', 'Mira raod east', 'Kerala 682013', 'Chennai.',\n",
       "       'Pokhran Road 2', 'Uttar Pradesh', 'Karnataka 560102',\n",
       "       'Mumbai - 400013', 'Naharpar', 'Hosur Road',\n",
       "       'Near Bharat Petroleum.', 'Chennai (Bang Opposite Indian Bank)',\n",
       "       'Sriram nagar', 'West Mumbai', 'Vyttila', 'Banjara Hills',\n",
       "       'MALAPALLIPURAM P .O THRISSUR', 'Andheri west Mumbai',\n",
       "       'Karnataka 560043', 'Panampilly Nagar', 'hyderabad',\n",
       "       'Borivali East.', 'ECIL', 'Jubilee Hills',\n",
       "       'Amrit kaur market opposite new delhi railway station paharganj',\n",
       "       'Chennai Opposite 5C Bus stand', 'Telengana', 'Kochi Ravipuram',\n",
       "       'Rajanpada', 'Mahabalipuram', 'Secunderabad. WE HAVE NO BRANCHES.',\n",
       "       'Telangana 500081', 'Gurgoan', 'Elamakkara', 'Sector 1',\n",
       "       'Bandra W', 'Kolathur', 'Chennai Mahabalipuram', '3rd Street',\n",
       "       'Mumbai Chakala', 'Borivali West', 'Rodeo Drive Sector 49',\n",
       "       'Pallimukku', 'Delhi 110085', 'Sector 51', 'Champapet',\n",
       "       'Andavar Nagar', 'Bangalore - 560103', 'Kerala 690525',\n",
       "       'opp mukteshwar ashram powai', 'Nungambakkam', 'BK Guda',\n",
       "       'Jogeshwari (w) Mumbai', 'Kukatapally', 'Near Sector 110 Noida',\n",
       "       'Navallur', 'Beside Excellency Gardens', 'Mumbai - 80', 'Begumpet',\n",
       "       'Maharaja Hotel Beside Gardania Bar', 'Ashok Vihar Phase 1',\n",
       "       'Trivandrum', 'Kochi-18', 'Narayanguda', 'Thevera', 'Chennai-40',\n",
       "       'Palm Beach Road', 'East Coast Road (ECR)', 'Ramapuram',\n",
       "       'Chennai Chrompet', 'Nandanam', 'Saket', 'MG Road Ernakulam',\n",
       "       'Andheri Lokhandwala.', 'Indiranagar', 'Thiruvanmiyur', 'Ambattur',\n",
       "       'Banglaore', 'Chennai - 34 Landmark - Near Loyola College',\n",
       "       'Anna Nagar West', 'Old Railway Road', 'East Mumbai',\n",
       "       'Kanakapura Road Banglore', 'Kochi Kakkanad', 'Kalyan',\n",
       "       'Near Ramlila Ground', 'Serilingampally', 'Himayath Nagar',\n",
       "       'Nallala Street', 'Anna Salai', 'Old Delhi', 'Wagle Estate',\n",
       "       '1st Stage', 'Kochi-16', 'Kochi International Airport VIP Road',\n",
       "       'First Street', 'Chenn ai', '6 & 7 - 4/64 Subhash Nagar',\n",
       "       '1st Tavarekere', 'Perambur', 'Vaishali Ghaziabad', 'Thanisandra',\n",
       "       'Block F', 'Sector 7 Dwarka', 'Opposite Barathi Gas Company',\n",
       "       'Vadapalani', 'Kondapur.', 'Badlapur West.', 'Kalamassery',\n",
       "       'Palavakkam', 'TCS Synergy park', 'BTM 1st Stage', 'Mahadevpura',\n",
       "       'NEW BEL ROAD 560054',\n",
       "       'Veliaveetil house Vivekananda Nagar Elamakkara', 'Sholinganallur',\n",
       "       'Maharashtra 400102', 'Lower Parel West', 'Tripunithura',\n",
       "       'Mogappair', 'Telangana 500070', 'JP Nagar', 'Navi-Mumbai',\n",
       "       'Ashok Nagar', 'Marathahalli', 'Haridwar Apartments',\n",
       "       'Kerala 682001 India', 'Karnataka 560037', 'Kerala 683585',\n",
       "       'Chennai. (Near Hotel Matshya)', 'Indirapuram',\n",
       "       'Begumpet Hyderabad', 'Manikonda',\n",
       "       'Bangalore land mark above mahaveer hard ware', 'Kerala 682304',\n",
       "       'Rajarajeshwari Nagar bangalore', 'GST Road', 'Fort Kochi',\n",
       "       'Lahari Apartments', 'Ramanthapur', 'Mulund west',\n",
       "       'Gurgaon Haryana India', 'New Delhi..Near by SBI bank',\n",
       "       'Kochi Aluva 102', 'Phase 1 Bangalore', 'Hyderabad Manikonda',\n",
       "       'Mumbai This is a Delivery & Take-away Restaurant only.',\n",
       "       '10th avenue', 'Uppal', 'New Delhi 110075', 'Nizampet', 'Ulsoo',\n",
       "       'Bangalore 560076', 'PVR plaza cinema building Connaught Place',\n",
       "       'Gurgaon Haryana', 'Chromepet', 'Kerala 682024', 'Janakpuri',\n",
       "       'Secunderabad.', 'chennai', 'B.B.M.P East (Karnataka) - 560049',\n",
       "       'Tambaram', 'Malleshwaram Bangalore', 'Vadapalani.',\n",
       "       'Dist. Center New Delhi', 'Bangalore Road', 'aluva circle',\n",
       "       'Kochi.', 'Thane Mumbai', 'Kadubesanahalli Bangalore',\n",
       "       'Vasai west', 'Mig Housing Society', 'Haryana', 'Borivali West.',\n",
       "       'Golf Course Road', 'Khar Mumbai', 'Near Jyothinivas College',\n",
       "       'Anna Nagar East', 'Masab Tank'], dtype=object)"
      ]
     },
     "execution_count": 9,
     "metadata": {},
     "output_type": "execute_result"
    }
   ],
   "source": [
    "df['CITY'].unique()\n"
   ]
  },
  {
   "cell_type": "code",
   "execution_count": null,
   "metadata": {},
   "outputs": [],
   "source": []
  },
  {
   "cell_type": "code",
   "execution_count": 10,
   "metadata": {},
   "outputs": [],
   "source": [
    "df['CITY'].fillna('Missing', inplace=True)  \n",
    "df['LOCALITY'].fillna('Missing', inplace=True)"
   ]
  },
  {
   "cell_type": "code",
   "execution_count": 11,
   "metadata": {},
   "outputs": [
    {
     "data": {
      "text/plain": [
       "TITLE               0\n",
       "RESTAURANT_ID       0\n",
       "CUISINES            0\n",
       "TIME                0\n",
       "CITY                0\n",
       "LOCALITY            0\n",
       "RATING              0\n",
       "VOTES            1204\n",
       "COST                0\n",
       "dtype: int64"
      ]
     },
     "execution_count": 11,
     "metadata": {},
     "output_type": "execute_result"
    }
   ],
   "source": [
    "df.isnull().sum()"
   ]
  },
  {
   "cell_type": "code",
   "execution_count": 12,
   "metadata": {},
   "outputs": [
    {
     "data": {
      "text/html": [
       "<div>\n",
       "<style scoped>\n",
       "    .dataframe tbody tr th:only-of-type {\n",
       "        vertical-align: middle;\n",
       "    }\n",
       "\n",
       "    .dataframe tbody tr th {\n",
       "        vertical-align: top;\n",
       "    }\n",
       "\n",
       "    .dataframe thead th {\n",
       "        text-align: right;\n",
       "    }\n",
       "</style>\n",
       "<table border=\"1\" class=\"dataframe\">\n",
       "  <thead>\n",
       "    <tr style=\"text-align: right;\">\n",
       "      <th></th>\n",
       "      <th>TITLE</th>\n",
       "      <th>RESTAURANT_ID</th>\n",
       "      <th>CUISINES</th>\n",
       "      <th>TIME</th>\n",
       "      <th>CITY</th>\n",
       "      <th>LOCALITY</th>\n",
       "      <th>RATING</th>\n",
       "      <th>VOTES</th>\n",
       "      <th>COST</th>\n",
       "    </tr>\n",
       "  </thead>\n",
       "  <tbody>\n",
       "    <tr>\n",
       "      <th>13</th>\n",
       "      <td>CASUAL DINING</td>\n",
       "      <td>4319</td>\n",
       "      <td>South Indian</td>\n",
       "      <td>11am – 11:30pm (Mon-Sun)</td>\n",
       "      <td>Kochi</td>\n",
       "      <td>Edappally</td>\n",
       "      <td>0.0</td>\n",
       "      <td>NaN</td>\n",
       "      <td>400</td>\n",
       "    </tr>\n",
       "    <tr>\n",
       "      <th>62</th>\n",
       "      <td>QUICK BITES</td>\n",
       "      <td>7841</td>\n",
       "      <td>North Indian, Beverages</td>\n",
       "      <td>11am – 11pm (Mon-Sun)</td>\n",
       "      <td>Kochi</td>\n",
       "      <td>Kalamassery</td>\n",
       "      <td>0.0</td>\n",
       "      <td>NaN</td>\n",
       "      <td>200</td>\n",
       "    </tr>\n",
       "    <tr>\n",
       "      <th>69</th>\n",
       "      <td>None</td>\n",
       "      <td>11096</td>\n",
       "      <td>Pizza, Fast Food</td>\n",
       "      <td>11am – 11pm (Mon-Sun)</td>\n",
       "      <td>New Delhi</td>\n",
       "      <td>Kalkaji</td>\n",
       "      <td>0.0</td>\n",
       "      <td>NaN</td>\n",
       "      <td>200</td>\n",
       "    </tr>\n",
       "    <tr>\n",
       "      <th>85</th>\n",
       "      <td>QUICK BITES</td>\n",
       "      <td>12657</td>\n",
       "      <td>North Indian, South Indian</td>\n",
       "      <td>Closed (Mon),7:30am – 10:30pm (Tue-Sun)</td>\n",
       "      <td>Bangalore</td>\n",
       "      <td>Vijay Nagar</td>\n",
       "      <td>0.0</td>\n",
       "      <td>NaN</td>\n",
       "      <td>300</td>\n",
       "    </tr>\n",
       "    <tr>\n",
       "      <th>111</th>\n",
       "      <td>CASUAL DINING</td>\n",
       "      <td>7095</td>\n",
       "      <td>Gujarati, Rajasthani, North Indian</td>\n",
       "      <td>11:30am – 3:30pm, 7pm – 11pm (Mon-Sun)</td>\n",
       "      <td>Mumbai</td>\n",
       "      <td>Borivali West</td>\n",
       "      <td>0.0</td>\n",
       "      <td>NaN</td>\n",
       "      <td>800</td>\n",
       "    </tr>\n",
       "    <tr>\n",
       "      <th>...</th>\n",
       "      <td>...</td>\n",
       "      <td>...</td>\n",
       "      <td>...</td>\n",
       "      <td>...</td>\n",
       "      <td>...</td>\n",
       "      <td>...</td>\n",
       "      <td>...</td>\n",
       "      <td>...</td>\n",
       "      <td>...</td>\n",
       "    </tr>\n",
       "    <tr>\n",
       "      <th>12630</th>\n",
       "      <td>CASUAL DINING</td>\n",
       "      <td>9959</td>\n",
       "      <td>Tex-Mex, Italian, Coffee</td>\n",
       "      <td>8am – 10:30pm (Mon-Sun)</td>\n",
       "      <td>Gurgaon</td>\n",
       "      <td>Golf Course Road</td>\n",
       "      <td>0.0</td>\n",
       "      <td>NaN</td>\n",
       "      <td>1200</td>\n",
       "    </tr>\n",
       "    <tr>\n",
       "      <th>12641</th>\n",
       "      <td>CASUAL DINING</td>\n",
       "      <td>8312</td>\n",
       "      <td>Kerala</td>\n",
       "      <td>7:30am – 11:30pm (Mon-Sun)</td>\n",
       "      <td>Kochi</td>\n",
       "      <td>Pallimukku</td>\n",
       "      <td>0.0</td>\n",
       "      <td>NaN</td>\n",
       "      <td>300</td>\n",
       "    </tr>\n",
       "    <tr>\n",
       "      <th>12646</th>\n",
       "      <td>QUICK BITES</td>\n",
       "      <td>6050</td>\n",
       "      <td>Kerala, Chinese</td>\n",
       "      <td>11am – 11pm (Mon-Sun)</td>\n",
       "      <td>Ernakulam</td>\n",
       "      <td>Market Road</td>\n",
       "      <td>0.0</td>\n",
       "      <td>NaN</td>\n",
       "      <td>300</td>\n",
       "    </tr>\n",
       "    <tr>\n",
       "      <th>12658</th>\n",
       "      <td>None</td>\n",
       "      <td>9384</td>\n",
       "      <td>Kerala, South Indian</td>\n",
       "      <td>11am – 5pm (Mon-Sun)</td>\n",
       "      <td>Kochi</td>\n",
       "      <td>Chittoor Road</td>\n",
       "      <td>0.0</td>\n",
       "      <td>NaN</td>\n",
       "      <td>400</td>\n",
       "    </tr>\n",
       "    <tr>\n",
       "      <th>12660</th>\n",
       "      <td>CASUAL DINING,BAR</td>\n",
       "      <td>1439</td>\n",
       "      <td>North Indian, Continental, Chinese, Beverages</td>\n",
       "      <td>5pm – 1:30am (Mon-Sun)</td>\n",
       "      <td>Mumbai</td>\n",
       "      <td>Bandra West</td>\n",
       "      <td>0.0</td>\n",
       "      <td>NaN</td>\n",
       "      <td>1200</td>\n",
       "    </tr>\n",
       "  </tbody>\n",
       "</table>\n",
       "<p>1204 rows × 9 columns</p>\n",
       "</div>"
      ],
      "text/plain": [
       "                   TITLE  RESTAURANT_ID  \\\n",
       "13         CASUAL DINING           4319   \n",
       "62           QUICK BITES           7841   \n",
       "69                  None          11096   \n",
       "85           QUICK BITES          12657   \n",
       "111        CASUAL DINING           7095   \n",
       "...                  ...            ...   \n",
       "12630      CASUAL DINING           9959   \n",
       "12641      CASUAL DINING           8312   \n",
       "12646        QUICK BITES           6050   \n",
       "12658               None           9384   \n",
       "12660  CASUAL DINING,BAR           1439   \n",
       "\n",
       "                                            CUISINES  \\\n",
       "13                                      South Indian   \n",
       "62                           North Indian, Beverages   \n",
       "69                                  Pizza, Fast Food   \n",
       "85                        North Indian, South Indian   \n",
       "111               Gujarati, Rajasthani, North Indian   \n",
       "...                                              ...   \n",
       "12630                       Tex-Mex, Italian, Coffee   \n",
       "12641                                         Kerala   \n",
       "12646                                Kerala, Chinese   \n",
       "12658                           Kerala, South Indian   \n",
       "12660  North Indian, Continental, Chinese, Beverages   \n",
       "\n",
       "                                          TIME       CITY          LOCALITY  \\\n",
       "13                    11am – 11:30pm (Mon-Sun)      Kochi         Edappally   \n",
       "62                       11am – 11pm (Mon-Sun)      Kochi       Kalamassery   \n",
       "69                       11am – 11pm (Mon-Sun)  New Delhi           Kalkaji   \n",
       "85     Closed (Mon),7:30am – 10:30pm (Tue-Sun)  Bangalore       Vijay Nagar   \n",
       "111     11:30am – 3:30pm, 7pm – 11pm (Mon-Sun)     Mumbai     Borivali West   \n",
       "...                                        ...        ...               ...   \n",
       "12630                  8am – 10:30pm (Mon-Sun)    Gurgaon  Golf Course Road   \n",
       "12641               7:30am – 11:30pm (Mon-Sun)      Kochi        Pallimukku   \n",
       "12646                    11am – 11pm (Mon-Sun)  Ernakulam       Market Road   \n",
       "12658                     11am – 5pm (Mon-Sun)      Kochi     Chittoor Road   \n",
       "12660                   5pm – 1:30am (Mon-Sun)     Mumbai       Bandra West   \n",
       "\n",
       "       RATING VOTES  COST  \n",
       "13        0.0   NaN   400  \n",
       "62        0.0   NaN   200  \n",
       "69        0.0   NaN   200  \n",
       "85        0.0   NaN   300  \n",
       "111       0.0   NaN   800  \n",
       "...       ...   ...   ...  \n",
       "12630     0.0   NaN  1200  \n",
       "12641     0.0   NaN   300  \n",
       "12646     0.0   NaN   300  \n",
       "12658     0.0   NaN   400  \n",
       "12660     0.0   NaN  1200  \n",
       "\n",
       "[1204 rows x 9 columns]"
      ]
     },
     "execution_count": 12,
     "metadata": {},
     "output_type": "execute_result"
    }
   ],
   "source": [
    "df[df['RATING']==0]"
   ]
  },
  {
   "cell_type": "code",
   "execution_count": 13,
   "metadata": {},
   "outputs": [],
   "source": [
    "df['VOTES'].fillna('0 votes', inplace=True)"
   ]
  },
  {
   "cell_type": "code",
   "execution_count": 14,
   "metadata": {},
   "outputs": [
    {
     "data": {
      "text/plain": [
       "TITLE            0\n",
       "RESTAURANT_ID    0\n",
       "CUISINES         0\n",
       "TIME             0\n",
       "CITY             0\n",
       "LOCALITY         0\n",
       "RATING           0\n",
       "VOTES            0\n",
       "COST             0\n",
       "dtype: int64"
      ]
     },
     "execution_count": 14,
     "metadata": {},
     "output_type": "execute_result"
    }
   ],
   "source": [
    "df.isnull().sum()"
   ]
  },
  {
   "cell_type": "code",
   "execution_count": 15,
   "metadata": {},
   "outputs": [
    {
     "data": {
      "text/html": [
       "<div>\n",
       "<style scoped>\n",
       "    .dataframe tbody tr th:only-of-type {\n",
       "        vertical-align: middle;\n",
       "    }\n",
       "\n",
       "    .dataframe tbody tr th {\n",
       "        vertical-align: top;\n",
       "    }\n",
       "\n",
       "    .dataframe thead th {\n",
       "        text-align: right;\n",
       "    }\n",
       "</style>\n",
       "<table border=\"1\" class=\"dataframe\">\n",
       "  <thead>\n",
       "    <tr style=\"text-align: right;\">\n",
       "      <th></th>\n",
       "      <th>TITLE</th>\n",
       "      <th>RESTAURANT_ID</th>\n",
       "      <th>CUISINES</th>\n",
       "      <th>TIME</th>\n",
       "      <th>CITY</th>\n",
       "      <th>LOCALITY</th>\n",
       "      <th>RATING</th>\n",
       "      <th>VOTES</th>\n",
       "      <th>COST</th>\n",
       "    </tr>\n",
       "  </thead>\n",
       "  <tbody>\n",
       "    <tr>\n",
       "      <th>22</th>\n",
       "      <td>None</td>\n",
       "      <td>12499</td>\n",
       "      <td>North Indian, Fast Food, Mughlai, Rolls</td>\n",
       "      <td>11am – 3am (Mon-Sun)</td>\n",
       "      <td>New Delhi</td>\n",
       "      <td>SDA</td>\n",
       "      <td>4.0</td>\n",
       "      <td>1191 votes</td>\n",
       "      <td>450</td>\n",
       "    </tr>\n",
       "    <tr>\n",
       "      <th>69</th>\n",
       "      <td>None</td>\n",
       "      <td>11096</td>\n",
       "      <td>Pizza, Fast Food</td>\n",
       "      <td>11am – 11pm (Mon-Sun)</td>\n",
       "      <td>New Delhi</td>\n",
       "      <td>Kalkaji</td>\n",
       "      <td>0.0</td>\n",
       "      <td>0 votes</td>\n",
       "      <td>200</td>\n",
       "    </tr>\n",
       "    <tr>\n",
       "      <th>83</th>\n",
       "      <td>None</td>\n",
       "      <td>1100</td>\n",
       "      <td>Chinese, Thai, Asian, Malaysian, Vietnamese, J...</td>\n",
       "      <td>12noon – 1am (Mon-Sun)</td>\n",
       "      <td>New Delhi</td>\n",
       "      <td>East of Kailash</td>\n",
       "      <td>4.2</td>\n",
       "      <td>1120 votes</td>\n",
       "      <td>1500</td>\n",
       "    </tr>\n",
       "    <tr>\n",
       "      <th>93</th>\n",
       "      <td>None</td>\n",
       "      <td>7400</td>\n",
       "      <td>Italian, Continental, Chinese, Thai, American,...</td>\n",
       "      <td>9pm – 7am (Mon-Sun)</td>\n",
       "      <td>Bangalore</td>\n",
       "      <td>BTM</td>\n",
       "      <td>3.4</td>\n",
       "      <td>15 votes</td>\n",
       "      <td>300</td>\n",
       "    </tr>\n",
       "    <tr>\n",
       "      <th>102</th>\n",
       "      <td>None</td>\n",
       "      <td>14529</td>\n",
       "      <td>Burger, Sandwich</td>\n",
       "      <td>11am – 10pm (Mon, Tue, Wed, Thu, Fri, Sun), 11...</td>\n",
       "      <td>Chennai</td>\n",
       "      <td>Purasaiwalkam</td>\n",
       "      <td>3.5</td>\n",
       "      <td>27 votes</td>\n",
       "      <td>200</td>\n",
       "    </tr>\n",
       "    <tr>\n",
       "      <th>...</th>\n",
       "      <td>...</td>\n",
       "      <td>...</td>\n",
       "      <td>...</td>\n",
       "      <td>...</td>\n",
       "      <td>...</td>\n",
       "      <td>...</td>\n",
       "      <td>...</td>\n",
       "      <td>...</td>\n",
       "      <td>...</td>\n",
       "    </tr>\n",
       "    <tr>\n",
       "      <th>12656</th>\n",
       "      <td>None</td>\n",
       "      <td>2249</td>\n",
       "      <td>Burger, Fast Food</td>\n",
       "      <td>12noon – 4am (Mon-Sun)</td>\n",
       "      <td>New Delhi</td>\n",
       "      <td>Rajouri Garden</td>\n",
       "      <td>4.2</td>\n",
       "      <td>647 votes</td>\n",
       "      <td>450</td>\n",
       "    </tr>\n",
       "    <tr>\n",
       "      <th>12658</th>\n",
       "      <td>None</td>\n",
       "      <td>9384</td>\n",
       "      <td>Kerala, South Indian</td>\n",
       "      <td>11am – 5pm (Mon-Sun)</td>\n",
       "      <td>Kochi</td>\n",
       "      <td>Chittoor Road</td>\n",
       "      <td>0.0</td>\n",
       "      <td>0 votes</td>\n",
       "      <td>400</td>\n",
       "    </tr>\n",
       "    <tr>\n",
       "      <th>12665</th>\n",
       "      <td>None</td>\n",
       "      <td>5679</td>\n",
       "      <td>Salad, Healthy Food, Beverages, Continental</td>\n",
       "      <td>11:30am – 10pm (Mon-Sun)</td>\n",
       "      <td>Faridabad</td>\n",
       "      <td>NIT</td>\n",
       "      <td>3.9</td>\n",
       "      <td>38 votes</td>\n",
       "      <td>200</td>\n",
       "    </tr>\n",
       "    <tr>\n",
       "      <th>12673</th>\n",
       "      <td>None</td>\n",
       "      <td>12011</td>\n",
       "      <td>Fast Food, Rolls</td>\n",
       "      <td>11:30am – 10:30pm (Mon-Sun)</td>\n",
       "      <td>New Delhi</td>\n",
       "      <td>Karol Bagh</td>\n",
       "      <td>4.0</td>\n",
       "      <td>617 votes</td>\n",
       "      <td>250</td>\n",
       "    </tr>\n",
       "    <tr>\n",
       "      <th>12677</th>\n",
       "      <td>None</td>\n",
       "      <td>14196</td>\n",
       "      <td>Rolls</td>\n",
       "      <td>11am – 4:30am (Mon-Sun)</td>\n",
       "      <td>Mumbai</td>\n",
       "      <td>Mahalaxmi</td>\n",
       "      <td>4.0</td>\n",
       "      <td>123 votes</td>\n",
       "      <td>550</td>\n",
       "    </tr>\n",
       "  </tbody>\n",
       "</table>\n",
       "<p>1003 rows × 9 columns</p>\n",
       "</div>"
      ],
      "text/plain": [
       "      TITLE  RESTAURANT_ID                                           CUISINES  \\\n",
       "22     None          12499            North Indian, Fast Food, Mughlai, Rolls   \n",
       "69     None          11096                                   Pizza, Fast Food   \n",
       "83     None           1100  Chinese, Thai, Asian, Malaysian, Vietnamese, J...   \n",
       "93     None           7400  Italian, Continental, Chinese, Thai, American,...   \n",
       "102    None          14529                                   Burger, Sandwich   \n",
       "...     ...            ...                                                ...   \n",
       "12656  None           2249                                  Burger, Fast Food   \n",
       "12658  None           9384                               Kerala, South Indian   \n",
       "12665  None           5679        Salad, Healthy Food, Beverages, Continental   \n",
       "12673  None          12011                                   Fast Food, Rolls   \n",
       "12677  None          14196                                              Rolls   \n",
       "\n",
       "                                                    TIME       CITY  \\\n",
       "22                                  11am – 3am (Mon-Sun)  New Delhi   \n",
       "69                                 11am – 11pm (Mon-Sun)  New Delhi   \n",
       "83                                12noon – 1am (Mon-Sun)  New Delhi   \n",
       "93                                   9pm – 7am (Mon-Sun)  Bangalore   \n",
       "102    11am – 10pm (Mon, Tue, Wed, Thu, Fri, Sun), 11...    Chennai   \n",
       "...                                                  ...        ...   \n",
       "12656                             12noon – 4am (Mon-Sun)  New Delhi   \n",
       "12658                               11am – 5pm (Mon-Sun)      Kochi   \n",
       "12665                           11:30am – 10pm (Mon-Sun)  Faridabad   \n",
       "12673                        11:30am – 10:30pm (Mon-Sun)  New Delhi   \n",
       "12677                            11am – 4:30am (Mon-Sun)     Mumbai   \n",
       "\n",
       "              LOCALITY  RATING       VOTES  COST  \n",
       "22                 SDA     4.0  1191 votes   450  \n",
       "69             Kalkaji     0.0     0 votes   200  \n",
       "83     East of Kailash     4.2  1120 votes  1500  \n",
       "93                 BTM     3.4    15 votes   300  \n",
       "102      Purasaiwalkam     3.5    27 votes   200  \n",
       "...                ...     ...         ...   ...  \n",
       "12656   Rajouri Garden     4.2   647 votes   450  \n",
       "12658    Chittoor Road     0.0     0 votes   400  \n",
       "12665              NIT     3.9    38 votes   200  \n",
       "12673       Karol Bagh     4.0   617 votes   250  \n",
       "12677        Mahalaxmi     4.0   123 votes   550  \n",
       "\n",
       "[1003 rows x 9 columns]"
      ]
     },
     "execution_count": 15,
     "metadata": {},
     "output_type": "execute_result"
    }
   ],
   "source": [
    "df[df['TITLE']=='None']"
   ]
  },
  {
   "cell_type": "code",
   "execution_count": 16,
   "metadata": {},
   "outputs": [],
   "source": [
    "df['VOTES'] = df['VOTES'].str.replace(' votes', '').astype(float)\n"
   ]
  },
  {
   "cell_type": "code",
   "execution_count": 17,
   "metadata": {},
   "outputs": [
    {
     "data": {
      "text/plain": [
       "TITLE             object\n",
       "RESTAURANT_ID      int64\n",
       "CUISINES          object\n",
       "TIME              object\n",
       "CITY              object\n",
       "LOCALITY          object\n",
       "RATING           float64\n",
       "VOTES            float64\n",
       "COST               int64\n",
       "dtype: object"
      ]
     },
     "execution_count": 17,
     "metadata": {},
     "output_type": "execute_result"
    }
   ],
   "source": [
    "df.dtypes"
   ]
  },
  {
   "cell_type": "code",
   "execution_count": 18,
   "metadata": {},
   "outputs": [
    {
     "data": {
      "text/html": [
       "<div>\n",
       "<style scoped>\n",
       "    .dataframe tbody tr th:only-of-type {\n",
       "        vertical-align: middle;\n",
       "    }\n",
       "\n",
       "    .dataframe tbody tr th {\n",
       "        vertical-align: top;\n",
       "    }\n",
       "\n",
       "    .dataframe thead th {\n",
       "        text-align: right;\n",
       "    }\n",
       "</style>\n",
       "<table border=\"1\" class=\"dataframe\">\n",
       "  <thead>\n",
       "    <tr style=\"text-align: right;\">\n",
       "      <th></th>\n",
       "      <th>TITLE</th>\n",
       "      <th>RESTAURANT_ID</th>\n",
       "      <th>CUISINES</th>\n",
       "      <th>TIME</th>\n",
       "      <th>CITY</th>\n",
       "      <th>LOCALITY</th>\n",
       "      <th>RATING</th>\n",
       "      <th>VOTES</th>\n",
       "      <th>COST</th>\n",
       "    </tr>\n",
       "  </thead>\n",
       "  <tbody>\n",
       "    <tr>\n",
       "      <th>0</th>\n",
       "      <td>CASUAL DINING</td>\n",
       "      <td>9438</td>\n",
       "      <td>Malwani, Goan, North Indian</td>\n",
       "      <td>11am – 4pm, 7:30pm – 11:30pm (Mon-Sun)</td>\n",
       "      <td>Thane</td>\n",
       "      <td>Dombivali East</td>\n",
       "      <td>3.6</td>\n",
       "      <td>49.0</td>\n",
       "      <td>1200</td>\n",
       "    </tr>\n",
       "    <tr>\n",
       "      <th>1</th>\n",
       "      <td>CASUAL DINING,BAR</td>\n",
       "      <td>13198</td>\n",
       "      <td>Asian, Modern Indian, Japanese</td>\n",
       "      <td>6pm – 11pm (Mon-Sun)</td>\n",
       "      <td>Chennai</td>\n",
       "      <td>Ramapuram</td>\n",
       "      <td>4.2</td>\n",
       "      <td>30.0</td>\n",
       "      <td>1500</td>\n",
       "    </tr>\n",
       "    <tr>\n",
       "      <th>2</th>\n",
       "      <td>CASUAL DINING</td>\n",
       "      <td>10915</td>\n",
       "      <td>North Indian, Chinese, Biryani, Hyderabadi</td>\n",
       "      <td>11am – 3:30pm, 7pm – 11pm (Mon-Sun)</td>\n",
       "      <td>Chennai</td>\n",
       "      <td>Saligramam</td>\n",
       "      <td>3.8</td>\n",
       "      <td>221.0</td>\n",
       "      <td>800</td>\n",
       "    </tr>\n",
       "    <tr>\n",
       "      <th>3</th>\n",
       "      <td>QUICK BITES</td>\n",
       "      <td>6346</td>\n",
       "      <td>Tibetan, Chinese</td>\n",
       "      <td>11:30am – 1am (Mon-Sun)</td>\n",
       "      <td>Mumbai</td>\n",
       "      <td>Bandra West</td>\n",
       "      <td>4.1</td>\n",
       "      <td>24.0</td>\n",
       "      <td>800</td>\n",
       "    </tr>\n",
       "    <tr>\n",
       "      <th>4</th>\n",
       "      <td>DESSERT PARLOR</td>\n",
       "      <td>15387</td>\n",
       "      <td>Desserts</td>\n",
       "      <td>11am – 1am (Mon-Sun)</td>\n",
       "      <td>Mumbai</td>\n",
       "      <td>Lower Parel</td>\n",
       "      <td>3.8</td>\n",
       "      <td>165.0</td>\n",
       "      <td>300</td>\n",
       "    </tr>\n",
       "  </tbody>\n",
       "</table>\n",
       "</div>"
      ],
      "text/plain": [
       "               TITLE  RESTAURANT_ID  \\\n",
       "0      CASUAL DINING           9438   \n",
       "1  CASUAL DINING,BAR          13198   \n",
       "2      CASUAL DINING          10915   \n",
       "3        QUICK BITES           6346   \n",
       "4     DESSERT PARLOR          15387   \n",
       "\n",
       "                                     CUISINES  \\\n",
       "0                 Malwani, Goan, North Indian   \n",
       "1              Asian, Modern Indian, Japanese   \n",
       "2  North Indian, Chinese, Biryani, Hyderabadi   \n",
       "3                            Tibetan, Chinese   \n",
       "4                                    Desserts   \n",
       "\n",
       "                                     TIME     CITY        LOCALITY  RATING  \\\n",
       "0  11am – 4pm, 7:30pm – 11:30pm (Mon-Sun)    Thane  Dombivali East     3.6   \n",
       "1                    6pm – 11pm (Mon-Sun)  Chennai       Ramapuram     4.2   \n",
       "2     11am – 3:30pm, 7pm – 11pm (Mon-Sun)  Chennai      Saligramam     3.8   \n",
       "3                 11:30am – 1am (Mon-Sun)   Mumbai     Bandra West     4.1   \n",
       "4                    11am – 1am (Mon-Sun)   Mumbai     Lower Parel     3.8   \n",
       "\n",
       "   VOTES  COST  \n",
       "0   49.0  1200  \n",
       "1   30.0  1500  \n",
       "2  221.0   800  \n",
       "3   24.0   800  \n",
       "4  165.0   300  "
      ]
     },
     "execution_count": 18,
     "metadata": {},
     "output_type": "execute_result"
    }
   ],
   "source": [
    "df.head()"
   ]
  },
  {
   "cell_type": "code",
   "execution_count": 19,
   "metadata": {},
   "outputs": [
    {
     "name": "stdout",
     "output_type": "stream",
     "text": [
      "<class 'pandas.core.frame.DataFrame'>\n",
      "RangeIndex: 12690 entries, 0 to 12689\n",
      "Data columns (total 9 columns):\n",
      " #   Column         Non-Null Count  Dtype  \n",
      "---  ------         --------------  -----  \n",
      " 0   TITLE          12690 non-null  object \n",
      " 1   RESTAURANT_ID  12690 non-null  int64  \n",
      " 2   CUISINES       12690 non-null  object \n",
      " 3   TIME           12690 non-null  object \n",
      " 4   CITY           12690 non-null  object \n",
      " 5   LOCALITY       12690 non-null  object \n",
      " 6   RATING         12690 non-null  float64\n",
      " 7   VOTES          12690 non-null  float64\n",
      " 8   COST           12690 non-null  int64  \n",
      "dtypes: float64(2), int64(2), object(5)\n",
      "memory usage: 892.4+ KB\n"
     ]
    }
   ],
   "source": [
    "df.info()"
   ]
  },
  {
   "cell_type": "code",
   "execution_count": 20,
   "metadata": {},
   "outputs": [
    {
     "data": {
      "text/plain": [
       "<matplotlib.axes._subplots.AxesSubplot at 0x1df0baed4c0>"
      ]
     },
     "execution_count": 20,
     "metadata": {},
     "output_type": "execute_result"
    },
    {
     "data": {
      "image/png": "[encoded data removed]",
      "text/plain": [
       "<Figure size 432x288 with 2 Axes>"
      ]
     },
     "metadata": {
      "needs_background": "light"
     },
     "output_type": "display_data"
    }
   ],
   "source": [
    "sns.heatmap(df.corr(), annot=True)"
   ]
  },
  {
   "cell_type": "code",
   "execution_count": 21,
   "metadata": {},
   "outputs": [],
   "source": [
    "from sklearn.preprocessing import LabelEncoder\n",
    "le=LabelEncoder()\n",
    "for col in df.columns:\n",
    "    if df[col].dtype==\"object\":\n",
    "        df[col]=le.fit_transform(df[col].astype(str))"
   ]
  },
  {
   "cell_type": "code",
   "execution_count": 22,
   "metadata": {},
   "outputs": [
    {
     "data": {
      "text/html": [
       "<div>\n",
       "<style scoped>\n",
       "    .dataframe tbody tr th:only-of-type {\n",
       "        vertical-align: middle;\n",
       "    }\n",
       "\n",
       "    .dataframe tbody tr th {\n",
       "        vertical-align: top;\n",
       "    }\n",
       "\n",
       "    .dataframe thead th {\n",
       "        text-align: right;\n",
       "    }\n",
       "</style>\n",
       "<table border=\"1\" class=\"dataframe\">\n",
       "  <thead>\n",
       "    <tr style=\"text-align: right;\">\n",
       "      <th></th>\n",
       "      <th>TITLE</th>\n",
       "      <th>RESTAURANT_ID</th>\n",
       "      <th>CUISINES</th>\n",
       "      <th>TIME</th>\n",
       "      <th>CITY</th>\n",
       "      <th>LOCALITY</th>\n",
       "      <th>RATING</th>\n",
       "      <th>VOTES</th>\n",
       "      <th>COST</th>\n",
       "    </tr>\n",
       "  </thead>\n",
       "  <tbody>\n",
       "    <tr>\n",
       "      <th>0</th>\n",
       "      <td>31</td>\n",
       "      <td>9438</td>\n",
       "      <td>2627</td>\n",
       "      <td>739</td>\n",
       "      <td>321</td>\n",
       "      <td>285</td>\n",
       "      <td>3.6</td>\n",
       "      <td>49.0</td>\n",
       "      <td>1200</td>\n",
       "    </tr>\n",
       "    <tr>\n",
       "      <th>1</th>\n",
       "      <td>33</td>\n",
       "      <td>13198</td>\n",
       "      <td>289</td>\n",
       "      <td>1885</td>\n",
       "      <td>67</td>\n",
       "      <td>1047</td>\n",
       "      <td>4.2</td>\n",
       "      <td>30.0</td>\n",
       "      <td>1500</td>\n",
       "    </tr>\n",
       "    <tr>\n",
       "      <th>2</th>\n",
       "      <td>31</td>\n",
       "      <td>10915</td>\n",
       "      <td>2976</td>\n",
       "      <td>661</td>\n",
       "      <td>67</td>\n",
       "      <td>1102</td>\n",
       "      <td>3.8</td>\n",
       "      <td>221.0</td>\n",
       "      <td>800</td>\n",
       "    </tr>\n",
       "    <tr>\n",
       "      <th>3</th>\n",
       "      <td>95</td>\n",
       "      <td>6346</td>\n",
       "      <td>4130</td>\n",
       "      <td>275</td>\n",
       "      <td>223</td>\n",
       "      <td>136</td>\n",
       "      <td>4.1</td>\n",
       "      <td>24.0</td>\n",
       "      <td>800</td>\n",
       "    </tr>\n",
       "    <tr>\n",
       "      <th>4</th>\n",
       "      <td>50</td>\n",
       "      <td>15387</td>\n",
       "      <td>1766</td>\n",
       "      <td>615</td>\n",
       "      <td>223</td>\n",
       "      <td>620</td>\n",
       "      <td>3.8</td>\n",
       "      <td>165.0</td>\n",
       "      <td>300</td>\n",
       "    </tr>\n",
       "  </tbody>\n",
       "</table>\n",
       "</div>"
      ],
      "text/plain": [
       "   TITLE  RESTAURANT_ID  CUISINES  TIME  CITY  LOCALITY  RATING  VOTES  COST\n",
       "0     31           9438      2627   739   321       285     3.6   49.0  1200\n",
       "1     33          13198       289  1885    67      1047     4.2   30.0  1500\n",
       "2     31          10915      2976   661    67      1102     3.8  221.0   800\n",
       "3     95           6346      4130   275   223       136     4.1   24.0   800\n",
       "4     50          15387      1766   615   223       620     3.8  165.0   300"
      ]
     },
     "execution_count": 22,
     "metadata": {},
     "output_type": "execute_result"
    }
   ],
   "source": [
    "df.head()"
   ]
  },
  {
   "cell_type": "code",
   "execution_count": 23,
   "metadata": {},
   "outputs": [
    {
     "data": {
      "text/plain": [
       "<matplotlib.axes._subplots.AxesSubplot at 0x1df08ed1280>"
      ]
     },
     "execution_count": 23,
     "metadata": {},
     "output_type": "execute_result"
    },
    {
     "data": {
      "image/png": "[encoded data removed]",
      "text/plain": [
       "<Figure size 1440x720 with 2 Axes>"
      ]
     },
     "metadata": {
      "needs_background": "light"
     },
     "output_type": "display_data"
    }
   ],
   "source": [
    "plt.figure(figsize=(20,10))\n",
    "sns.heatmap(df.corr(), annot=True)"
   ]
  },
  {
   "cell_type": "code",
   "execution_count": 24,
   "metadata": {},
   "outputs": [],
   "source": [
    "df.drop(columns=['CUISINES','TITLE','LOCALITY', 'RESTAURANT_ID'],inplace=True)"
   ]
  },
  {
   "cell_type": "code",
   "execution_count": 25,
   "metadata": {},
   "outputs": [],
   "source": [
    "X=df.drop(\"COST\", axis=1)\n",
    "y=df[[\"COST\"]]"
   ]
  },
  {
   "cell_type": "code",
   "execution_count": 26,
   "metadata": {},
   "outputs": [
    {
     "data": {
      "text/html": [
       "<div>\n",
       "<style scoped>\n",
       "    .dataframe tbody tr th:only-of-type {\n",
       "        vertical-align: middle;\n",
       "    }\n",
       "\n",
       "    .dataframe tbody tr th {\n",
       "        vertical-align: top;\n",
       "    }\n",
       "\n",
       "    .dataframe thead th {\n",
       "        text-align: right;\n",
       "    }\n",
       "</style>\n",
       "<table border=\"1\" class=\"dataframe\">\n",
       "  <thead>\n",
       "    <tr style=\"text-align: right;\">\n",
       "      <th></th>\n",
       "      <th>TIME</th>\n",
       "      <th>CITY</th>\n",
       "      <th>RATING</th>\n",
       "      <th>VOTES</th>\n",
       "    </tr>\n",
       "  </thead>\n",
       "  <tbody>\n",
       "    <tr>\n",
       "      <th>0</th>\n",
       "      <td>-0.584658</td>\n",
       "      <td>2.100383</td>\n",
       "      <td>0.147237</td>\n",
       "      <td>-0.403533</td>\n",
       "    </tr>\n",
       "    <tr>\n",
       "      <th>1</th>\n",
       "      <td>0.934369</td>\n",
       "      <td>-0.912576</td>\n",
       "      <td>0.655819</td>\n",
       "      <td>-0.426964</td>\n",
       "    </tr>\n",
       "    <tr>\n",
       "      <th>2</th>\n",
       "      <td>-0.688048</td>\n",
       "      <td>-0.912576</td>\n",
       "      <td>0.316765</td>\n",
       "      <td>-0.191427</td>\n",
       "    </tr>\n",
       "    <tr>\n",
       "      <th>3</th>\n",
       "      <td>-1.199692</td>\n",
       "      <td>0.937903</td>\n",
       "      <td>0.571055</td>\n",
       "      <td>-0.434363</td>\n",
       "    </tr>\n",
       "    <tr>\n",
       "      <th>4</th>\n",
       "      <td>-0.749021</td>\n",
       "      <td>0.937903</td>\n",
       "      <td>0.316765</td>\n",
       "      <td>-0.260485</td>\n",
       "    </tr>\n",
       "    <tr>\n",
       "      <th>...</th>\n",
       "      <td>...</td>\n",
       "      <td>...</td>\n",
       "      <td>...</td>\n",
       "      <td>...</td>\n",
       "    </tr>\n",
       "    <tr>\n",
       "      <th>12685</th>\n",
       "      <td>-0.047829</td>\n",
       "      <td>-0.153405</td>\n",
       "      <td>0.316765</td>\n",
       "      <td>0.209355</td>\n",
       "    </tr>\n",
       "    <tr>\n",
       "      <th>12686</th>\n",
       "      <td>-0.004088</td>\n",
       "      <td>0.937903</td>\n",
       "      <td>0.740582</td>\n",
       "      <td>1.033116</td>\n",
       "    </tr>\n",
       "    <tr>\n",
       "      <th>12687</th>\n",
       "      <td>-0.057108</td>\n",
       "      <td>1.139557</td>\n",
       "      <td>0.486292</td>\n",
       "      <td>0.285812</td>\n",
       "    </tr>\n",
       "    <tr>\n",
       "      <th>12688</th>\n",
       "      <td>0.870745</td>\n",
       "      <td>-0.912576</td>\n",
       "      <td>0.062474</td>\n",
       "      <td>-0.424497</td>\n",
       "    </tr>\n",
       "    <tr>\n",
       "      <th>12689</th>\n",
       "      <td>-0.457410</td>\n",
       "      <td>-0.153405</td>\n",
       "      <td>-0.022290</td>\n",
       "      <td>0.370901</td>\n",
       "    </tr>\n",
       "  </tbody>\n",
       "</table>\n",
       "<p>12690 rows × 4 columns</p>\n",
       "</div>"
      ],
      "text/plain": [
       "           TIME      CITY    RATING     VOTES\n",
       "0     -0.584658  2.100383  0.147237 -0.403533\n",
       "1      0.934369 -0.912576  0.655819 -0.426964\n",
       "2     -0.688048 -0.912576  0.316765 -0.191427\n",
       "3     -1.199692  0.937903  0.571055 -0.434363\n",
       "4     -0.749021  0.937903  0.316765 -0.260485\n",
       "...         ...       ...       ...       ...\n",
       "12685 -0.047829 -0.153405  0.316765  0.209355\n",
       "12686 -0.004088  0.937903  0.740582  1.033116\n",
       "12687 -0.057108  1.139557  0.486292  0.285812\n",
       "12688  0.870745 -0.912576  0.062474 -0.424497\n",
       "12689 -0.457410 -0.153405 -0.022290  0.370901\n",
       "\n",
       "[12690 rows x 4 columns]"
      ]
     },
     "execution_count": 26,
     "metadata": {},
     "output_type": "execute_result"
    }
   ],
   "source": [
    "from sklearn.preprocessing import StandardScaler\n",
    "\n",
    "scaler = StandardScaler()\n",
    "X = pd.DataFrame(scaler.fit_transform(X), columns=X.columns)\n",
    "X"
   ]
  },
  {
   "cell_type": "code",
   "execution_count": 27,
   "metadata": {},
   "outputs": [],
   "source": [
    "from sklearn.linear_model import LinearRegression,Lasso,Ridge,ElasticNet\n",
    "from sklearn.svm import SVR\n",
    "from sklearn.tree import DecisionTreeRegressor\n",
    "from sklearn.neighbors import KNeighborsRegressor\n",
    "from sklearn.ensemble import RandomForestRegressor\n",
    "from sklearn.ensemble import AdaBoostRegressor\n",
    "from sklearn.metrics import mean_absolute_error, mean_squared_error,r2_score\n",
    "from sklearn.model_selection import GridSearchCV,cross_val_score\n",
    "from sklearn.model_selection import train_test_split\n"
   ]
  },
  {
   "cell_type": "code",
   "execution_count": 30,
   "metadata": {},
   "outputs": [
    {
     "name": "stdout",
     "output_type": "stream",
     "text": [
      "At random state 976  The model performs very well\n",
      "At random state:-  976\n",
      "Training r2_score is:  9.82791179980731\n",
      "Testing r2_score is:  9.834383818618841\n"
     ]
    }
   ],
   "source": [
    "max_scr = 0\n",
    "\n",
    "for i in range(0,1000):\n",
    "    X_train, X_test, y_train, y_test = train_test_split(X, y, random_state = i, test_size = 0.2)\n",
    "    lr.fit(X_train, y_train)\n",
    "    pred_train = lr.predict(X_train)\n",
    "    pred_test = lr.predict(X_test)\n",
    "    if round(r2_score(y_train, pred_train)*100, 2) == round(r2_score(y_test, pred_test)*100,2):\n",
    "        print('At random state', i, ' The model performs very well')\n",
    "        print('At random state:- ', i)\n",
    "        print('Training r2_score is: ', r2_score(y_train, pred_train)*100)\n",
    "        print('Testing r2_score is: ', r2_score(y_test, pred_test)*100)"
   ]
  },
  {
   "cell_type": "code",
   "execution_count": 31,
   "metadata": {},
   "outputs": [],
   "source": [
    "X_train, X_test, y_train, y_test = train_test_split(X, y, random_state = 976, test_size = 0.2)"
   ]
  },
  {
   "cell_type": "code",
   "execution_count": 32,
   "metadata": {},
   "outputs": [
    {
     "name": "stderr",
     "output_type": "stream",
     "text": [
      "<ipython-input-32-665bb2d119d6>:3: DataConversionWarning: A column-vector y was passed when a 1d array was expected. Please change the shape of y to (n_samples,), for example using ravel().\n",
      "  RF.fit(X_train, y_train)\n",
      "C:\\Users\\nikshit\\anaconda3\\lib\\site-packages\\sklearn\\model_selection\\_validation.py:531: DataConversionWarning: A column-vector y was passed when a 1d array was expected. Please change the shape of y to (n_samples,), for example using ravel().\n",
      "  estimator.fit(X_train, y_train, **fit_params)\n",
      "C:\\Users\\nikshit\\anaconda3\\lib\\site-packages\\sklearn\\model_selection\\_validation.py:531: DataConversionWarning: A column-vector y was passed when a 1d array was expected. Please change the shape of y to (n_samples,), for example using ravel().\n",
      "  estimator.fit(X_train, y_train, **fit_params)\n",
      "C:\\Users\\nikshit\\anaconda3\\lib\\site-packages\\sklearn\\model_selection\\_validation.py:531: DataConversionWarning: A column-vector y was passed when a 1d array was expected. Please change the shape of y to (n_samples,), for example using ravel().\n",
      "  estimator.fit(X_train, y_train, **fit_params)\n",
      "C:\\Users\\nikshit\\anaconda3\\lib\\site-packages\\sklearn\\model_selection\\_validation.py:531: DataConversionWarning: A column-vector y was passed when a 1d array was expected. Please change the shape of y to (n_samples,), for example using ravel().\n",
      "  estimator.fit(X_train, y_train, **fit_params)\n",
      "C:\\Users\\nikshit\\anaconda3\\lib\\site-packages\\sklearn\\model_selection\\_validation.py:531: DataConversionWarning: A column-vector y was passed when a 1d array was expected. Please change the shape of y to (n_samples,), for example using ravel().\n",
      "  estimator.fit(X_train, y_train, **fit_params)\n"
     ]
    },
    {
     "name": "stdout",
     "output_type": "stream",
     "text": [
      "Accuracy = 32.95322515495245, CrossvalScore = 34.6697113535687 and diff = -1.716486198616252\n"
     ]
    }
   ],
   "source": [
    "from sklearn.ensemble import RandomForestRegressor\n",
    "RF = RandomForestRegressor()\n",
    "RF.fit(X_train, y_train)\n",
    "y_pred = RF.predict(X_test)\n",
    "r2score = r2_score(y_test, y_pred)\n",
    "cvscore = cross_val_score(RandomForestRegressor(), X_train, y_train, cv=5).mean()\n",
    "print(f'Accuracy = {r2score*100}, CrossvalScore = {cvscore*100} and diff = {(r2score*100) - (cvscore*100)}')"
   ]
  },
  {
   "cell_type": "code",
   "execution_count": 33,
   "metadata": {},
   "outputs": [
    {
     "name": "stderr",
     "output_type": "stream",
     "text": [
      "C:\\Users\\nikshit\\anaconda3\\lib\\site-packages\\sklearn\\utils\\validation.py:73: DataConversionWarning: A column-vector y was passed when a 1d array was expected. Please change the shape of y to (n_samples, ), for example using ravel().\n",
      "  return f(**kwargs)\n",
      "C:\\Users\\nikshit\\anaconda3\\lib\\site-packages\\sklearn\\utils\\validation.py:73: DataConversionWarning: A column-vector y was passed when a 1d array was expected. Please change the shape of y to (n_samples, ), for example using ravel().\n",
      "  return f(**kwargs)\n",
      "C:\\Users\\nikshit\\anaconda3\\lib\\site-packages\\sklearn\\utils\\validation.py:73: DataConversionWarning: A column-vector y was passed when a 1d array was expected. Please change the shape of y to (n_samples, ), for example using ravel().\n",
      "  return f(**kwargs)\n",
      "C:\\Users\\nikshit\\anaconda3\\lib\\site-packages\\sklearn\\utils\\validation.py:73: DataConversionWarning: A column-vector y was passed when a 1d array was expected. Please change the shape of y to (n_samples, ), for example using ravel().\n",
      "  return f(**kwargs)\n",
      "C:\\Users\\nikshit\\anaconda3\\lib\\site-packages\\sklearn\\utils\\validation.py:73: DataConversionWarning: A column-vector y was passed when a 1d array was expected. Please change the shape of y to (n_samples, ), for example using ravel().\n",
      "  return f(**kwargs)\n",
      "C:\\Users\\nikshit\\anaconda3\\lib\\site-packages\\sklearn\\utils\\validation.py:73: DataConversionWarning: A column-vector y was passed when a 1d array was expected. Please change the shape of y to (n_samples, ), for example using ravel().\n",
      "  return f(**kwargs)\n"
     ]
    },
    {
     "name": "stdout",
     "output_type": "stream",
     "text": [
      "Accuracy = -65.47220425053423, CrossvalScore = -49.355852180621525 and diff = -16.116352069912708\n"
     ]
    }
   ],
   "source": [
    "from sklearn.ensemble import AdaBoostRegressor\n",
    "ADB = AdaBoostRegressor()\n",
    "ADB.fit(X_train, y_train)\n",
    "y_pred = ADB.predict(X_test)\n",
    "r2score = r2_score(y_test, y_pred)\n",
    "cvscore = cross_val_score(AdaBoostRegressor(), X_train, y_train, cv=5).mean()\n",
    "print(f'Accuracy = {r2score*100}, CrossvalScore = {cvscore*100} and diff = {(r2score*100) - (cvscore*100)}')"
   ]
  },
  {
   "cell_type": "code",
   "execution_count": 34,
   "metadata": {},
   "outputs": [
    {
     "name": "stdout",
     "output_type": "stream",
     "text": [
      "Accuracy = 9.911967907233176, CrossvalScore = 6.188099646825842 and diff = 3.7238682604073343\n"
     ]
    },
    {
     "name": "stderr",
     "output_type": "stream",
     "text": [
      "C:\\Users\\nikshit\\anaconda3\\lib\\site-packages\\sklearn\\utils\\validation.py:73: DataConversionWarning: A column-vector y was passed when a 1d array was expected. Please change the shape of y to (n_samples, ), for example using ravel().\n",
      "  return f(**kwargs)\n",
      "C:\\Users\\nikshit\\anaconda3\\lib\\site-packages\\sklearn\\utils\\validation.py:73: DataConversionWarning: A column-vector y was passed when a 1d array was expected. Please change the shape of y to (n_samples, ), for example using ravel().\n",
      "  return f(**kwargs)\n",
      "C:\\Users\\nikshit\\anaconda3\\lib\\site-packages\\sklearn\\utils\\validation.py:73: DataConversionWarning: A column-vector y was passed when a 1d array was expected. Please change the shape of y to (n_samples, ), for example using ravel().\n",
      "  return f(**kwargs)\n",
      "C:\\Users\\nikshit\\anaconda3\\lib\\site-packages\\sklearn\\utils\\validation.py:73: DataConversionWarning: A column-vector y was passed when a 1d array was expected. Please change the shape of y to (n_samples, ), for example using ravel().\n",
      "  return f(**kwargs)\n",
      "C:\\Users\\nikshit\\anaconda3\\lib\\site-packages\\sklearn\\utils\\validation.py:73: DataConversionWarning: A column-vector y was passed when a 1d array was expected. Please change the shape of y to (n_samples, ), for example using ravel().\n",
      "  return f(**kwargs)\n",
      "C:\\Users\\nikshit\\anaconda3\\lib\\site-packages\\sklearn\\utils\\validation.py:73: DataConversionWarning: A column-vector y was passed when a 1d array was expected. Please change the shape of y to (n_samples, ), for example using ravel().\n",
      "  return f(**kwargs)\n"
     ]
    }
   ],
   "source": [
    "from sklearn.linear_model import SGDRegressor\n",
    "SGD = SGDRegressor()\n",
    "SGD.fit(X_train, y_train)\n",
    "y_pred = SGD.predict(X_test)\n",
    "r2score = r2_score(y_test, y_pred)\n",
    "cvscore = cross_val_score(SGDRegressor(), X_train, y_train, cv=5).mean()\n",
    "print(f'Accuracy = {r2score*100}, CrossvalScore = {cvscore*100} and diff = {(r2score*100) - (cvscore*100)}')"
   ]
  },
  {
   "cell_type": "code",
   "execution_count": 35,
   "metadata": {},
   "outputs": [
    {
     "data": {
      "text/plain": [
       "array([375.73770492, 551.47928994, 914.80392157, ..., 610.81081081,\n",
       "       558.69158879, 684.96732026])"
      ]
     },
     "execution_count": 35,
     "metadata": {},
     "output_type": "execute_result"
    }
   ],
   "source": [
    "from sklearn.tree import DecisionTreeRegressor\n",
    "tree = DecisionTreeRegressor(max_depth = 15, min_samples_leaf = 100)\n",
    "tree.fit(X_train, y_train)\n",
    "tree_pred = tree.predict(X_test)\n",
    "tree_pred"
   ]
  },
  {
   "cell_type": "code",
   "execution_count": 36,
   "metadata": {},
   "outputs": [
    {
     "data": {
      "text/plain": [
       "30.0"
      ]
     },
     "execution_count": 36,
     "metadata": {},
     "output_type": "execute_result"
    }
   ],
   "source": [
    "tree_accuracy = round(tree.score(X_train, y_train)*100)\n",
    "tree_accuracy"
   ]
  },
  {
   "cell_type": "code",
   "execution_count": 37,
   "metadata": {},
   "outputs": [
    {
     "data": {
      "text/plain": [
       "array([ 467.84857,  586.5019 ,  455.1619 , ..., 1313.5996 ,  597.4608 ,\n",
       "        488.13828], dtype=float32)"
      ]
     },
     "execution_count": 37,
     "metadata": {},
     "output_type": "execute_result"
    }
   ],
   "source": [
    "from xgboost import XGBRegressor\n",
    "\n",
    "xg = XGBRegressor(n_estimators = 1000, learning_rate = 0.3)\n",
    "xg.fit(X_train, y_train)\n",
    "xg_pred = xg.predict(X_test)\n",
    "xg_pred"
   ]
  },
  {
   "cell_type": "code",
   "execution_count": 38,
   "metadata": {},
   "outputs": [
    {
     "data": {
      "text/plain": [
       "98.0"
      ]
     },
     "execution_count": 38,
     "metadata": {},
     "output_type": "execute_result"
    }
   ],
   "source": [
    "xg_accuracy = round(xg.score(X_train, y_train)*100)\n",
    "xg_accuracy"
   ]
  },
  {
   "cell_type": "code",
   "execution_count": 39,
   "metadata": {},
   "outputs": [
    {
     "name": "stdout",
     "output_type": "stream",
     "text": [
      "Mean absolute error: 311.92760274239276\n",
      "Mean squared error: 307708.26444132667\n",
      "Root Mean squared error: 554.714579257952\n",
      "R2 score is: 0.31139295138454803\n"
     ]
    }
   ],
   "source": [
    "from sklearn.metrics import mean_absolute_error\n",
    "from sklearn.metrics import mean_squared_error\n",
    "from sklearn.metrics import r2_score\n",
    "\n",
    "print('Mean absolute error:', mean_absolute_error(y_test, xg_pred))\n",
    "print('Mean squared error:', mean_squared_error(y_test, xg_pred))\n",
    "print('Root Mean squared error:', np.sqrt(mean_squared_error(y_test, xg_pred)))\n",
    "print('R2 score is:', r2_score(y_test, xg_pred))"
   ]
  },
  {
   "cell_type": "code",
   "execution_count": null,
   "metadata": {},
   "outputs": [],
   "source": []
  }
 ],
 "metadata": {
  "kernelspec": {
   "display_name": "Python 3",
   "language": "python",
   "name": "python3"
  },
  "language_info": {
   "codemirror_mode": {
    "name": "ipython",
    "version": 3
   },
   "file_extension": ".py",
   "mimetype": "text/x-python",
   "name": "python",
   "nbconvert_exporter": "python",
   "pygments_lexer": "ipython3",
   "version": "3.8.3"
  }
 },
 "nbformat": 4,
 "nbformat_minor": 4
}
